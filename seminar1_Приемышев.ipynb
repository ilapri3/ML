{
 "cells": [
  {
   "cell_type": "markdown",
   "id": "6a33e3b9",
   "metadata": {},
   "source": [
    "## Семинар 1\n",
    "\n",
    "# Тема: Повторение библиотек numpy, pandas, matplotlib, seaborn."
   ]
  },
  {
   "cell_type": "markdown",
   "id": "2d128e60-6431-4513-8b9b-74d98fd55b5a",
   "metadata": {},
   "source": [
    "Импортируем необходимые библиотеки:"
   ]
  },
  {
   "cell_type": "code",
   "execution_count": 1,
   "id": "ff49fc69",
   "metadata": {},
   "outputs": [],
   "source": [
    "import numpy as np\n",
    "import pandas as pd\n",
    "import matplotlib.pyplot as plt\n",
    "import seaborn as sns"
   ]
  },
  {
   "cell_type": "markdown",
   "id": "85d1ceab-8af7-42d5-998c-86316a466e66",
   "metadata": {},
   "source": [
    "### Задания для выполнения:"
   ]
  },
  {
   "cell_type": "markdown",
   "id": "8a1c165f",
   "metadata": {},
   "source": [
    "## 1. Создайте двумерный numpy-массив (матрицу), элементами которой являются числа из таблицы умножения. Выделите из этой матрицы новую матрицу, состоящую из первых трёх столбцов данной."
   ]
  },
  {
   "cell_type": "code",
   "execution_count": null,
   "id": "3bb5c70d-fa23-47e0-a691-dfa020d669b8",
   "metadata": {},
   "outputs": [],
   "source": []
  },
  {
   "cell_type": "markdown",
   "id": "7840fcb8",
   "metadata": {},
   "source": [
    "## 2. Создайте функцию, которая возвращает диагональную матрицу, по диагонали которой располагаются члены арифметической прогрессии. Пусть эта функция принимает три значения: размер матрицы, первый элемент и разность арифметической прогрессии. Выведите матрицу с конкретными значениями параметров. Напечатайте эту матрицу, используя print."
   ]
  },
  {
   "cell_type": "code",
   "execution_count": null,
   "id": "b3acb7ea-c1ec-41bd-aef0-2155366ba261",
   "metadata": {},
   "outputs": [],
   "source": []
  },
  {
   "cell_type": "markdown",
   "id": "21eb048b",
   "metadata": {},
   "source": [
    "## 3. Создайте одномерный numpy-массив, содержащий числа от 1 до 25. Превратите его в матрицу размета $5 \\times 5$. Выделите из этой матрицы второй столбец в виде столбца (двумерный numpy-массив) и в виде строки (одномерный numpy-массив)."
   ]
  },
  {
   "cell_type": "code",
   "execution_count": null,
   "id": "439507e3-75b0-47c6-b3a7-8786c74f9b32",
   "metadata": {},
   "outputs": [],
   "source": []
  },
  {
   "cell_type": "markdown",
   "id": "88019956",
   "metadata": {},
   "source": [
    "## 4. Создайте функцию, которая возвращает квадратную матрицу, содержащую единицы на границе и нули внутри. Пусть эта функция принимает размер матрицы."
   ]
  },
  {
   "cell_type": "code",
   "execution_count": null,
   "id": "c48f721a-8679-47bb-9fe8-d6dc9f3de113",
   "metadata": {},
   "outputs": [],
   "source": []
  },
  {
   "cell_type": "markdown",
   "id": "dc195bdd",
   "metadata": {},
   "source": [
    "## 5. Создайте две матрицы размером 5 $\\times$ 5. Первая матрица должна содержать цифру 5 в шахматном порядке, остальные значения - нули. Вторая матрица - треугольная, состоящая из цифры 5 на местах с ненулевыми значениями. Посчитайте их детерминанты и найдите обратные матрицы (если это возможно)."
   ]
  },
  {
   "cell_type": "code",
   "execution_count": null,
   "id": "d1fdc0f1-eba2-4cf5-b999-721979e90cfc",
   "metadata": {},
   "outputs": [],
   "source": []
  },
  {
   "cell_type": "markdown",
   "id": "e118745a",
   "metadata": {},
   "source": [
    "## 6. С помощью pandas загрузите датасет для предсказания цены квартиры, прилагающийся к этой работе. Создайте его копию. Выведите на экран 7 первых, 7 последних и 7 случайных строк данных."
   ]
  },
  {
   "cell_type": "code",
   "execution_count": null,
   "id": "1502ea8b-b949-4f25-9fd0-575589c9ce78",
   "metadata": {},
   "outputs": [],
   "source": []
  },
  {
   "cell_type": "markdown",
   "id": "2ce570c2-8e24-49c7-a5f0-62856fa949a7",
   "metadata": {},
   "source": [
    "## 7. Выведите информацию о данных. Выведите количество строк, количество столбцов, тип данных каждого признака."
   ]
  },
  {
   "cell_type": "code",
   "execution_count": null,
   "id": "f3edfb98-cc7b-4136-9b07-f8e5ce305d70",
   "metadata": {},
   "outputs": [],
   "source": []
  },
  {
   "cell_type": "markdown",
   "id": "74648f4a-a490-4723-aa4c-694ae3d20ced",
   "metadata": {},
   "source": [
    "## 8. Выведите статистику для числовых признаков и для категориальных признаков."
   ]
  },
  {
   "cell_type": "code",
   "execution_count": null,
   "id": "d4ec1087-02d0-4d6d-a0bd-2f51eb228919",
   "metadata": {},
   "outputs": [],
   "source": []
  },
  {
   "cell_type": "markdown",
   "id": "0b53420a",
   "metadata": {},
   "source": [
    "## 9. Удалите из таблицы столбцы, содержащие идентификаторы."
   ]
  },
  {
   "cell_type": "code",
   "execution_count": null,
   "id": "24aacd2a-5109-4053-a116-56bae4a3eec6",
   "metadata": {},
   "outputs": [],
   "source": []
  },
  {
   "cell_type": "markdown",
   "id": "6d101624-75f7-4e16-ad88-df42a868a852",
   "metadata": {},
   "source": [
    "## 10. Выведите названия колонок. Переименуйте названия колонок на русский язык."
   ]
  },
  {
   "cell_type": "code",
   "execution_count": 139,
   "id": "e955d312",
   "metadata": {},
   "outputs": [],
   "source": [
    "dict_rus = {'Rooms':'Комнаты', 'Square':'Площадь', 'LifeSquare':'Жилая площадь', 'KitchenSquare':'Площадь кухни', 'Floor':'Этаж', 'HouseFloor':'Этажей в доме', 'HouseYear':'Год постройки', 'Ecology_1':'Экология_1', 'Ecology_2':'Экология_2', 'Ecology_3':'Экология_3', 'Social_1':'Социал_1', 'Social_2':'Социал_2', 'Social_3':'Социал_3', 'Healthcare_1':'Здравоохранение_1', 'Helthcare_2':'Здравоохранение_2', 'Shops_1':'Магазины_1', 'Shops_2':'Магазины_2', 'Price':'Цена'}"
   ]
  },
  {
   "cell_type": "code",
   "execution_count": null,
   "id": "c966208f-aa6b-44dc-b018-e2edc78ae811",
   "metadata": {},
   "outputs": [],
   "source": []
  },
  {
   "cell_type": "markdown",
   "id": "a8400224",
   "metadata": {},
   "source": [
    "## 11. Выведите отдельно столбец, содержащий цену, по его номеру столбца и по названию в виде серии и в виде датафрейма. Выведите первую, десятую и предпоследнюю строку таблицы."
   ]
  },
  {
   "cell_type": "code",
   "execution_count": null,
   "id": "8cd98f14-3d47-490c-9984-552a47f9660b",
   "metadata": {},
   "outputs": [],
   "source": []
  },
  {
   "cell_type": "markdown",
   "id": "e309d8ea-d0ac-4a79-9ba0-0eb03a436e46",
   "metadata": {},
   "source": [
    "## 12. Выведите два столбца \"Площадь\" и \"Цена\" только для трёхкомнатных квартир."
   ]
  },
  {
   "cell_type": "code",
   "execution_count": null,
   "id": "dc85628d-e874-4bd4-9d54-d4e435e3a00a",
   "metadata": {},
   "outputs": [],
   "source": []
  },
  {
   "cell_type": "markdown",
   "id": "890748fa-f51c-438b-b780-3df7b6e2cf85",
   "metadata": {},
   "source": [
    "## 13. Сохраните получившуюся таблицу в файлы формата csv и xlsx. Прочитайте их и убедитесь, что данные отображаются корректно."
   ]
  },
  {
   "cell_type": "code",
   "execution_count": null,
   "id": "07468a26-1a52-4b28-824d-92d53621cdca",
   "metadata": {},
   "outputs": [],
   "source": []
  },
  {
   "cell_type": "markdown",
   "id": "59a78961",
   "metadata": {},
   "source": [
    "## 14. Выделите в отдельную таблицу (DataFrame) последние десять строк. Удалите в ней столбец с ценой. Склейте ее с первоначальной таблицей при помощи concat. Заполните отсутствующие значения цены средним по таблице."
   ]
  },
  {
   "cell_type": "code",
   "execution_count": null,
   "id": "66e551ac-c36e-4f5e-9b08-6aa750577872",
   "metadata": {},
   "outputs": [],
   "source": []
  },
  {
   "cell_type": "markdown",
   "id": "fbb8e7d4",
   "metadata": {},
   "source": [
    "## 15. Теперь выделите пять последних колонок в отдельную таблицу. Удалите в ней строки, в которых цена ниже среднего. Присоедините эту таблицу к исходной."
   ]
  },
  {
   "cell_type": "code",
   "execution_count": null,
   "id": "efe11419-dd59-419c-ae06-92bd4410b3bd",
   "metadata": {},
   "outputs": [],
   "source": []
  },
  {
   "cell_type": "markdown",
   "id": "c9873f0b",
   "metadata": {},
   "source": [
    "## 16. Используя изначальную версию датасета считайте в ноутбук первые 400 строк."
   ]
  },
  {
   "cell_type": "code",
   "execution_count": null,
   "id": "f7ad22cd-996c-4861-aacf-c7456ca9ebba",
   "metadata": {},
   "outputs": [],
   "source": []
  },
  {
   "cell_type": "markdown",
   "id": "da614c2b",
   "metadata": {},
   "source": [
    "## 17. Постройте круговую диаграмму для признака Rooms, иллюстрирующую количество квартир в процентах в зависимости от количества комнат. Сделайте сектор с наибольшим числом квартир выдвинутым."
   ]
  },
  {
   "cell_type": "code",
   "execution_count": null,
   "id": "c77f4046-1a07-41f0-9df4-e89c9bee2830",
   "metadata": {},
   "outputs": [],
   "source": []
  },
  {
   "cell_type": "markdown",
   "id": "7929d0c9",
   "metadata": {},
   "source": [
    "## 18. Постройте гистограмму по целевой переменной Price. Оцените визуально, по какой цене продаётся наибольшее количество квартир."
   ]
  },
  {
   "cell_type": "code",
   "execution_count": null,
   "id": "3df8c44b-4b4e-482c-8a7f-34fdc69559a3",
   "metadata": {},
   "outputs": [],
   "source": []
  },
  {
   "cell_type": "markdown",
   "id": "5c04fffd",
   "metadata": {},
   "source": [
    "## 19. Постройте диаграммы рассеяния для признаков Rooms, Square, HouseFloor, HouseYear в зависимости от целевой переменной Price в одной области figure. Оцените визуально, есть ли среди них такие, на которых разброс точек близок к линейной функции."
   ]
  },
  {
   "cell_type": "code",
   "execution_count": null,
   "id": "4ee60c2f-2077-47f7-a0e8-f40de6051091",
   "metadata": {},
   "outputs": [],
   "source": []
  },
  {
   "cell_type": "markdown",
   "id": "e1c74d56",
   "metadata": {},
   "source": [
    "## 20. Постройте ядерную оценку плотности целевой переменной Price. Оцените визуально, напоминает ли полученный график нормальное распределение. Постройте двумерную ядерную оценку плотности для целевой переменной Price и признака HouseFloor, затем оцените визуально на каких этажах и по какой цене продаётся основная масса квартир."
   ]
  },
  {
   "cell_type": "code",
   "execution_count": null,
   "id": "75c1cb2c-7426-4f73-b99b-c9bf56a51672",
   "metadata": {},
   "outputs": [],
   "source": []
  },
  {
   "cell_type": "markdown",
   "id": "8901af56",
   "metadata": {},
   "source": [
    "## 21. Постройте ящиковую диаграмму признака Square. Оцените визуально имеются ли выбросы, и, если да, то начиная с какого размера площади значение признака можно считать выбросом."
   ]
  },
  {
   "cell_type": "code",
   "execution_count": null,
   "id": "981d05ac-2e2f-4343-8acc-7a456566e9df",
   "metadata": {},
   "outputs": [],
   "source": []
  },
  {
   "cell_type": "markdown",
   "id": "9c391527",
   "metadata": {},
   "source": [
    "## 22. При помощи сетки графиков PairGrid визуализируйте попарные отношения признаков Rooms, Square, HouseFloor, HouseYear, Price следующим образом: на диагонали - гистограммы, под диагональю - ядерные оценки плотности, над диагональю - диаграммы рассеяния. По результатам визуализации сделайте выводы."
   ]
  },
  {
   "cell_type": "code",
   "execution_count": null,
   "id": "902d64b8-2c8c-4593-a5a9-5ec94e8412a4",
   "metadata": {},
   "outputs": [],
   "source": []
  },
  {
   "cell_type": "markdown",
   "id": "98f89c37",
   "metadata": {},
   "source": [
    "## 23. Постройте тепловую карту матрицы корреляции (df.corr()) признаков Rooms, Square, HouseFloor, HouseYear, Price. По ней определите, какие признаки являются зависимыми (у таких признаков коэффициент корреляции близок к единице)."
   ]
  },
  {
   "cell_type": "code",
   "execution_count": null,
   "id": "cf9647a8-e679-4caf-bd4b-a692ea920ef2",
   "metadata": {},
   "outputs": [],
   "source": []
  },
  {
   "cell_type": "markdown",
   "id": "d1443202-57fa-41cf-9894-6ca0d0909b4f",
   "metadata": {},
   "source": [
    "# Домашнее задание:"
   ]
  },
  {
   "cell_type": "markdown",
   "id": "7ce46bc7-f265-45f3-a617-5c957e517421",
   "metadata": {},
   "source": [
    "Вам даны данные результатов ЕГЭ. Выполните следующие действия:\n",
    "\n",
    "1. Загрузите данные корректно в ноутбук.\n",
    "2. Выведите размер датасета и информацию о нём.\n",
    "3. Выведите последнюю строку, убедитесь, что она неинформативна и удалите её.\n",
    "4. Убедитесь, что столбец \"Устная часть\" состоит только из пропущенных значений, а в столбце \"№\" все значения уникальные, удалите эти два столбца.\n",
    "5. Убедитесь, что в столбце \"Минимальный балл\" только одно значение.\n",
    "6. Определите, какой тип данных имеет столбец \"№ школы\". Поменяйте его на int. Аналогично поступите со столбцом \"Номер варианта\".\n",
    "7. Переименуйте столбец \"№ школы\" на \"Номер школы\".\n",
    "8. Выведите описательную статистику по набранному баллу.\n",
    "9.  Постройте ядерную оценку плотности распределению баллов за экзамен.\n",
    "10. Найдите процент учащихся, выполнивших работу ниже среднего двумя способами: средствами numpy и средствами pandas.\n",
    "11. Найдите количество учащихся не сдавших экзамен.\n",
    "12. Постройте круговую диаграмму, показывающую распределение сдавших и не сдавших экзамен."
   ]
  },
  {
   "cell_type": "code",
   "execution_count": null,
   "id": "488333e9-7a16-418f-80aa-c9f5cdb357bd",
   "metadata": {},
   "outputs": [],
   "source": []
  }
 ],
 "metadata": {
  "kernelspec": {
   "display_name": "Python 3 (ipykernel)",
   "language": "python",
   "name": "python3"
  },
  "language_info": {
   "codemirror_mode": {
    "name": "ipython",
    "version": 3
   },
   "file_extension": ".py",
   "mimetype": "text/x-python",
   "name": "python",
   "nbconvert_exporter": "python",
   "pygments_lexer": "ipython3",
   "version": "3.12.4"
  }
 },
 "nbformat": 4,
 "nbformat_minor": 5
}
