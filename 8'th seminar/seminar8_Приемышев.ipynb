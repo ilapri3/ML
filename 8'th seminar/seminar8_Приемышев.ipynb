{
  "cells": [
    {
      "cell_type": "markdown",
      "metadata": {
        "id": "_-yfSL_rjMc1"
      },
      "source": [
        "## Семинар 8\n",
        "\n",
        "# Тема: Логистическая регрессия своими руками для задач с двумя и тремя признаками"
      ]
    },
    {
      "cell_type": "markdown",
      "metadata": {
        "id": "ArZcAehyjMc2"
      },
      "source": [
        "Имеется набор данных и у каждого объекта есть метка принадлежности к какому-то классу.\n",
        "Необходимо предсказывать метку класса для объекта. Идея логистической регрессии состоит в том, чтобы предсказывать не метку класса, а вероятность принадлежности данного объекта к каждому из классов.\n",
        "\n",
        "Рассмотрим алгоритм логистической регрессии для бинарной классификации, т.е. случая, когда различных классов всего 2. В этом случае задача алгоритма логистической регрессии очень похожа на задачу алгоритма линейной регрессии, рассмотренного ранее: модель должна подобрать коэффициенты $w_0, w_1, \\dots, w_n$.\n",
        "\n",
        "В начале мы делаем то же самое, что и в линейной регрессии. Мы вычисляем значение\n",
        "\n",
        "$$z = w_0 + w_1 \\cdot x_1 + \\dots + w_m \\cdot x_m.$$\n",
        "\n",
        "Затем величина $z$ помещается в _сигмоидную функцию_:\n",
        "$$\\sigma(z) = \\dfrac{1}{1 + e^{- z}}.$$\n",
        "\n",
        "Сигмоидная функция используется для того, чтобы преобразовать число $z$ из промежутка $(- \\infty, \\infty)$ в число $\\sigma(z)$ из промежутка $(0, 1)$. Причём, делается это так, что число $\\sigma(z)$ можно теперь интерпретировать как вероятность. В нашем случае это будет вероятность принадлежности объекта $x$ классу 1. Соответственно, вероятность принадлежности объекта классу 0 будет равна $1 - \\sigma(z)$.\n",
        "\n",
        "Таким образом\n",
        "\n",
        "$$P\\left(y=1|x\\right) = \\sigma(z),$$\n",
        "\n",
        "$$P\\left(y=0|x\\right) = 1 - \\sigma(z),$$\n",
        "\n",
        "Построим функцию правдоподобия как\n",
        "\n",
        "$$Loss(x) = \\arg \\max \\limits_z  \\prod \\limits_{i=0}^{n} P\\left(y=y_i|x = x_i\\right)$$\n",
        "\n",
        "Для построения максимума удобнее использовать ее логарифм:\n",
        "\n",
        "Алгоритм логистической регрессии минимизирует функцию потерь $logLoss$:\n",
        "\n",
        "$$logLoss(x) =-\\frac{1}{n}\\sum\\limits_{i=0}^{n}  (y_i \\cdot \\operatorname{ln} (p_i) + (1 - y_i) \\cdot \\operatorname{ln} (1 - p_i)).$$\n",
        "\n",
        "Здесь $y_i$ - правильный ответ на объекте $x_i$ (0 или 1), а $p_i$ - вычисленная алгоритмом вероятность принадлежности объекта $x$ классу 1.\n",
        "\n",
        "Для поиска минимума может быть применен поиск минимума при помощи градиентного спуска."
      ]
    },
    {
      "cell_type": "markdown",
      "metadata": {
        "id": "ZvBd6gl5jMc3"
      },
      "source": [
        "Импортируем необходимые библиотеки:"
      ]
    },
    {
      "cell_type": "code",
      "execution_count": 2,
      "metadata": {
        "id": "ELvzt_cdjMc3"
      },
      "outputs": [],
      "source": [
        "import numpy as np\n",
        "import pandas as pd\n",
        "import matplotlib.pyplot as plt\n",
        "\n",
        "from sklearn.datasets import make_blobs"
      ]
    },
    {
      "cell_type": "markdown",
      "metadata": {
        "id": "ghLtV8EqjMc4"
      },
      "source": [
        "### Генерация данных для задачи регрессии"
      ]
    },
    {
      "cell_type": "code",
      "execution_count": 3,
      "metadata": {
        "id": "46kwvSyCjMc4"
      },
      "outputs": [],
      "source": [
        "X, y = make_blobs(n_samples = 50, centers = 2,\n",
        "               cluster_std = 1.5, n_features = 2,\n",
        "                  random_state=42)"
      ]
    },
    {
      "cell_type": "markdown",
      "metadata": {
        "id": "STTdlr3fjMc4"
      },
      "source": [
        "Выведим первые пять строк признаков:"
      ]
    },
    {
      "cell_type": "code",
      "execution_count": 4,
      "metadata": {
        "colab": {
          "base_uri": "https://localhost:8080/"
        },
        "id": "omsa0ef7jMc5",
        "outputId": "e90f407f-9d95-4ffe-f3f9-02c5e4aeaa81"
      },
      "outputs": [
        {
          "output_type": "execute_result",
          "data": {
            "text/plain": [
              "array([[ 4.58613978,  4.32013517],\n",
              "       [-3.41175754, 11.7927034 ],\n",
              "       [-4.5014767 ,  9.30957798],\n",
              "       [-2.40790532,  6.87716385],\n",
              "       [-4.0284443 ,  9.48565713]])"
            ]
          },
          "metadata": {},
          "execution_count": 4
        }
      ],
      "source": [
        "X[:5]"
      ]
    },
    {
      "cell_type": "markdown",
      "metadata": {
        "id": "ucJGjH7rjMc5"
      },
      "source": [
        "Выведим значения целевой переменной:"
      ]
    },
    {
      "cell_type": "code",
      "execution_count": 5,
      "metadata": {
        "colab": {
          "base_uri": "https://localhost:8080/"
        },
        "id": "39ZRJ_h3jMc5",
        "outputId": "f9bf2b63-c8b2-42e1-a96f-c7bbfe26ae41"
      },
      "outputs": [
        {
          "output_type": "execute_result",
          "data": {
            "text/plain": [
              "array([1, 0, 0, 0, 0, 0, 0, 1, 1, 0, 1, 1, 0, 1, 0, 1, 0, 1, 0, 1, 1, 0,\n",
              "       0, 0, 1, 0, 1, 1, 0, 1, 1, 0, 0, 1, 1, 0, 1, 1, 1, 0, 1, 0, 0, 1,\n",
              "       0, 1, 0, 1, 1, 0])"
            ]
          },
          "metadata": {},
          "execution_count": 5
        }
      ],
      "source": [
        "y"
      ]
    },
    {
      "cell_type": "markdown",
      "metadata": {
        "id": "lHk28iQgjMc6"
      },
      "source": [
        "Визуализируем сгенерироавнные данные на диаграмме рассеивания, подкрасив классы разными цветами."
      ]
    },
    {
      "cell_type": "code",
      "execution_count": 6,
      "metadata": {
        "colab": {
          "base_uri": "https://localhost:8080/",
          "height": 472
        },
        "id": "5I4XEA1hjMc6",
        "outputId": "53fedbd7-24e6-4183-a8a5-743a30b14279"
      },
      "outputs": [
        {
          "output_type": "display_data",
          "data": {
            "text/plain": [
              "<Figure size 640x480 with 1 Axes>"
            ],
            "image/png": "[encoded data removed]"
          },
          "metadata": {}
        }
      ],
      "source": [
        "plt.scatter(X[:, 0], X[:, 1],  c=y, cmap='autumn')\n",
        "plt.xlabel('X0')\n",
        "plt.ylabel('X1')\n",
        "plt.title(\"Визуализация классов\")\n",
        "plt.show()"
      ]
    },
    {
      "cell_type": "markdown",
      "metadata": {
        "id": "2y1ir4LbjMc6"
      },
      "source": [
        "### 1. Сгенерируйте данные и значения целевой переменной для задачи классификации с 2 признаками и 100 наблюдениями. Представьте признаки в виде датафрейма, выведите его первые 10 строк и описательную статистику. Целевую переменную представьте в виде серии и выведите количество элементов в каждом классе.\n",
        "Указание: Для этого воспользуйтесь [make_blobs](https://scikit-learn.org/stable/modules/generated/sklearn.datasets.make_blobs.html), задав параметры: число строк n_samples=100, число признаков n_features=2, количество классов centers = 2, стандартное отклонение групп точек cluster_std = 0.7 (отвечает за удалённость друг от друга классов), а также фиксируем воспроизводимость случайных данных random_state=0."
      ]
    },
    {
      "cell_type": "code",
      "execution_count": 7,
      "metadata": {
        "id": "s2Ak8hR3jMc6"
      },
      "outputs": [],
      "source": [
        "X, y = make_blobs(n_samples = 100, centers = 2,\n",
        "               cluster_std = 0.7, n_features = 2,\n",
        "                  random_state=0)"
      ]
    },
    {
      "cell_type": "code",
      "execution_count": 8,
      "metadata": {
        "colab": {
          "base_uri": "https://localhost:8080/"
        },
        "id": "aVPuKRL7jMc6",
        "outputId": "1b62ef84-51c2-4bc2-f8bb-c257a2aae1f5"
      },
      "outputs": [
        {
          "output_type": "execute_result",
          "data": {
            "text/plain": [
              "array([[3.56953269, 1.83323322],\n",
              "       [1.25203946, 0.59118963],\n",
              "       [0.09931333, 4.84803058],\n",
              "       [0.35482006, 2.9172298 ],\n",
              "       [2.88688838, 1.11952349]])"
            ]
          },
          "metadata": {},
          "execution_count": 8
        }
      ],
      "source": [
        "X[:5]"
      ]
    },
    {
      "cell_type": "code",
      "execution_count": 9,
      "metadata": {
        "colab": {
          "base_uri": "https://localhost:8080/"
        },
        "id": "ZGjzdiPxjMc6",
        "outputId": "e6764e23-c016-495b-d41f-5dd087ef0b33"
      },
      "outputs": [
        {
          "output_type": "execute_result",
          "data": {
            "text/plain": [
              "array([1, 1, 0, 0, 1, 0, 0, 1, 0, 1, 0, 1, 0, 0, 1, 1, 1, 0, 1, 1, 0, 0,\n",
              "       1, 0, 1, 0, 1, 0, 0, 1, 1, 0, 1, 1, 1, 0, 1, 1, 0, 1, 0, 0, 0, 0,\n",
              "       1, 1, 1, 1, 0, 0, 1, 1, 0, 0, 0, 0, 0, 1, 1, 1, 1, 0, 0, 1, 0, 1,\n",
              "       0, 0, 1, 0, 0, 1, 1, 0, 0, 0, 1, 1, 0, 0, 1, 0, 0, 0, 0, 0, 1, 0,\n",
              "       1, 1, 1, 1, 1, 1, 0, 0, 1, 1, 0, 1])"
            ]
          },
          "metadata": {},
          "execution_count": 9
        }
      ],
      "source": [
        "y"
      ]
    },
    {
      "cell_type": "code",
      "execution_count": 10,
      "metadata": {
        "colab": {
          "base_uri": "https://localhost:8080/",
          "height": 363
        },
        "id": "B33YezqJjMc6",
        "outputId": "a1300614-2e47-4ac8-e72f-04e1a012f129"
      },
      "outputs": [
        {
          "output_type": "execute_result",
          "data": {
            "text/plain": [
              "   Feature 1  Feature 2\n",
              "0   3.569533   1.833233\n",
              "1   1.252039   0.591190\n",
              "2   0.099313   4.848031\n",
              "3   0.354820   2.917230\n",
              "4   2.886888   1.119523\n",
              "5   1.302234   3.228417\n",
              "6   1.008301   4.172759\n",
              "7   3.401327   1.934024\n",
              "8   0.705141   4.092175\n",
              "9   1.492881   0.414979"
            ],
            "text/html": [
              "\n",
              "  <div id=\"df-ed61520a-b725-464b-8dfa-6dc82a27ae1a\" class=\"colab-df-container\">\n",
              "    <div>\n",
              "<style scoped>\n",
              "    .dataframe tbody tr th:only-of-type {\n",
              "        vertical-align: middle;\n",
              "    }\n",
              "\n",
              "    .dataframe tbody tr th {\n",
              "        vertical-align: top;\n",
              "    }\n",
              "\n",
              "    .dataframe thead th {\n",
              "        text-align: right;\n",
              "    }\n",
              "</style>\n",
              "<table border=\"1\" class=\"dataframe\">\n",
              "  <thead>\n",
              "    <tr style=\"text-align: right;\">\n",
              "      <th></th>\n",
              "      <th>Feature 1</th>\n",
              "      <th>Feature 2</th>\n",
              "    </tr>\n",
              "  </thead>\n",
              "  <tbody>\n",
              "    <tr>\n",
              "      <th>0</th>\n",
              "      <td>3.569533</td>\n",
              "      <td>1.833233</td>\n",
              "    </tr>\n",
              "    <tr>\n",
              "      <th>1</th>\n",
              "      <td>1.252039</td>\n",
              "      <td>0.591190</td>\n",
              "    </tr>\n",
              "    <tr>\n",
              "      <th>2</th>\n",
              "      <td>0.099313</td>\n",
              "      <td>4.848031</td>\n",
              "    </tr>\n",
              "    <tr>\n",
              "      <th>3</th>\n",
              "      <td>0.354820</td>\n",
              "      <td>2.917230</td>\n",
              "    </tr>\n",
              "    <tr>\n",
              "      <th>4</th>\n",
              "      <td>2.886888</td>\n",
              "      <td>1.119523</td>\n",
              "    </tr>\n",
              "    <tr>\n",
              "      <th>5</th>\n",
              "      <td>1.302234</td>\n",
              "      <td>3.228417</td>\n",
              "    </tr>\n",
              "    <tr>\n",
              "      <th>6</th>\n",
              "      <td>1.008301</td>\n",
              "      <td>4.172759</td>\n",
              "    </tr>\n",
              "    <tr>\n",
              "      <th>7</th>\n",
              "      <td>3.401327</td>\n",
              "      <td>1.934024</td>\n",
              "    </tr>\n",
              "    <tr>\n",
              "      <th>8</th>\n",
              "      <td>0.705141</td>\n",
              "      <td>4.092175</td>\n",
              "    </tr>\n",
              "    <tr>\n",
              "      <th>9</th>\n",
              "      <td>1.492881</td>\n",
              "      <td>0.414979</td>\n",
              "    </tr>\n",
              "  </tbody>\n",
              "</table>\n",
              "</div>\n",
              "    <div class=\"colab-df-buttons\">\n",
              "\n",
              "  <div class=\"colab-df-container\">\n",
              "    <button class=\"colab-df-convert\" onclick=\"convertToInteractive('df-ed61520a-b725-464b-8dfa-6dc82a27ae1a')\"\n",
              "            title=\"Convert this dataframe to an interactive table.\"\n",
              "            style=\"display:none;\">\n",
              "\n",
              "  <svg xmlns=\"http://www.w3.org/2000/svg\" height=\"24px\" viewBox=\"0 -960 960 960\">\n",
              "    <path d=\"M120-120v-720h720v720H120Zm60-500h600v-160H180v160Zm220 220h160v-160H400v160Zm0 220h160v-160H400v160ZM180-400h160v-160H180v160Zm440 0h160v-160H620v160ZM180-180h160v-160H180v160Zm440 0h160v-160H620v160Z\"/>\n",
              "  </svg>\n",
              "    </button>\n",
              "\n",
              "  <style>\n",
              "    .colab-df-container {\n",
              "      display:flex;\n",
              "      gap: 12px;\n",
              "    }\n",
              "\n",
              "    .colab-df-convert {\n",
              "      background-color: #E8F0FE;\n",
              "      border: none;\n",
              "      border-radius: 50%;\n",
              "      cursor: pointer;\n",
              "      display: none;\n",
              "      fill: #1967D2;\n",
              "      height: 32px;\n",
              "      padding: 0 0 0 0;\n",
              "      width: 32px;\n",
              "    }\n",
              "\n",
              "    .colab-df-convert:hover {\n",
              "      background-color: #E2EBFA;\n",
              "      box-shadow: 0px 1px 2px rgba(60, 64, 67, 0.3), 0px 1px 3px 1px rgba(60, 64, 67, 0.15);\n",
              "      fill: #174EA6;\n",
              "    }\n",
              "\n",
              "    .colab-df-buttons div {\n",
              "      margin-bottom: 4px;\n",
              "    }\n",
              "\n",
              "    [theme=dark] .colab-df-convert {\n",
              "      background-color: #3B4455;\n",
              "      fill: #D2E3FC;\n",
              "    }\n",
              "\n",
              "    [theme=dark] .colab-df-convert:hover {\n",
              "      background-color: #434B5C;\n",
              "      box-shadow: 0px 1px 3px 1px rgba(0, 0, 0, 0.15);\n",
              "      filter: drop-shadow(0px 1px 2px rgba(0, 0, 0, 0.3));\n",
              "      fill: #FFFFFF;\n",
              "    }\n",
              "  </style>\n",
              "\n",
              "    <script>\n",
              "      const buttonEl =\n",
              "        document.querySelector('#df-ed61520a-b725-464b-8dfa-6dc82a27ae1a button.colab-df-convert');\n",
              "      buttonEl.style.display =\n",
              "        google.colab.kernel.accessAllowed ? 'block' : 'none';\n",
              "\n",
              "      async function convertToInteractive(key) {\n",
              "        const element = document.querySelector('#df-ed61520a-b725-464b-8dfa-6dc82a27ae1a');\n",
              "        const dataTable =\n",
              "          await google.colab.kernel.invokeFunction('convertToInteractive',\n",
              "                                                    [key], {});\n",
              "        if (!dataTable) return;\n",
              "\n",
              "        const docLinkHtml = 'Like what you see? Visit the ' +\n",
              "          '<a target=\"_blank\" href=https://colab.research.google.com/notebooks/data_table.ipynb>data table notebook</a>'\n",
              "          + ' to learn more about interactive tables.';\n",
              "        element.innerHTML = '';\n",
              "        dataTable['output_type'] = 'display_data';\n",
              "        await google.colab.output.renderOutput(dataTable, element);\n",
              "        const docLink = document.createElement('div');\n",
              "        docLink.innerHTML = docLinkHtml;\n",
              "        element.appendChild(docLink);\n",
              "      }\n",
              "    </script>\n",
              "  </div>\n",
              "\n",
              "\n",
              "<div id=\"df-2ebaeaca-b87b-4989-aec3-f75e45ca4b1d\">\n",
              "  <button class=\"colab-df-quickchart\" onclick=\"quickchart('df-2ebaeaca-b87b-4989-aec3-f75e45ca4b1d')\"\n",
              "            title=\"Suggest charts\"\n",
              "            style=\"display:none;\">\n",
              "\n",
              "<svg xmlns=\"http://www.w3.org/2000/svg\" height=\"24px\"viewBox=\"0 0 24 24\"\n",
              "     width=\"24px\">\n",
              "    <g>\n",
              "        <path d=\"M19 3H5c-1.1 0-2 .9-2 2v14c0 1.1.9 2 2 2h14c1.1 0 2-.9 2-2V5c0-1.1-.9-2-2-2zM9 17H7v-7h2v7zm4 0h-2V7h2v10zm4 0h-2v-4h2v4z\"/>\n",
              "    </g>\n",
              "</svg>\n",
              "  </button>\n",
              "\n",
              "<style>\n",
              "  .colab-df-quickchart {\n",
              "      --bg-color: #E8F0FE;\n",
              "      --fill-color: #1967D2;\n",
              "      --hover-bg-color: #E2EBFA;\n",
              "      --hover-fill-color: #174EA6;\n",
              "      --disabled-fill-color: #AAA;\n",
              "      --disabled-bg-color: #DDD;\n",
              "  }\n",
              "\n",
              "  [theme=dark] .colab-df-quickchart {\n",
              "      --bg-color: #3B4455;\n",
              "      --fill-color: #D2E3FC;\n",
              "      --hover-bg-color: #434B5C;\n",
              "      --hover-fill-color: #FFFFFF;\n",
              "      --disabled-bg-color: #3B4455;\n",
              "      --disabled-fill-color: #666;\n",
              "  }\n",
              "\n",
              "  .colab-df-quickchart {\n",
              "    background-color: var(--bg-color);\n",
              "    border: none;\n",
              "    border-radius: 50%;\n",
              "    cursor: pointer;\n",
              "    display: none;\n",
              "    fill: var(--fill-color);\n",
              "    height: 32px;\n",
              "    padding: 0;\n",
              "    width: 32px;\n",
              "  }\n",
              "\n",
              "  .colab-df-quickchart:hover {\n",
              "    background-color: var(--hover-bg-color);\n",
              "    box-shadow: 0 1px 2px rgba(60, 64, 67, 0.3), 0 1px 3px 1px rgba(60, 64, 67, 0.15);\n",
              "    fill: var(--button-hover-fill-color);\n",
              "  }\n",
              "\n",
              "  .colab-df-quickchart-complete:disabled,\n",
              "  .colab-df-quickchart-complete:disabled:hover {\n",
              "    background-color: var(--disabled-bg-color);\n",
              "    fill: var(--disabled-fill-color);\n",
              "    box-shadow: none;\n",
              "  }\n",
              "\n",
              "  .colab-df-spinner {\n",
              "    border: 2px solid var(--fill-color);\n",
              "    border-color: transparent;\n",
              "    border-bottom-color: var(--fill-color);\n",
              "    animation:\n",
              "      spin 1s steps(1) infinite;\n",
              "  }\n",
              "\n",
              "  @keyframes spin {\n",
              "    0% {\n",
              "      border-color: transparent;\n",
              "      border-bottom-color: var(--fill-color);\n",
              "      border-left-color: var(--fill-color);\n",
              "    }\n",
              "    20% {\n",
              "      border-color: transparent;\n",
              "      border-left-color: var(--fill-color);\n",
              "      border-top-color: var(--fill-color);\n",
              "    }\n",
              "    30% {\n",
              "      border-color: transparent;\n",
              "      border-left-color: var(--fill-color);\n",
              "      border-top-color: var(--fill-color);\n",
              "      border-right-color: var(--fill-color);\n",
              "    }\n",
              "    40% {\n",
              "      border-color: transparent;\n",
              "      border-right-color: var(--fill-color);\n",
              "      border-top-color: var(--fill-color);\n",
              "    }\n",
              "    60% {\n",
              "      border-color: transparent;\n",
              "      border-right-color: var(--fill-color);\n",
              "    }\n",
              "    80% {\n",
              "      border-color: transparent;\n",
              "      border-right-color: var(--fill-color);\n",
              "      border-bottom-color: var(--fill-color);\n",
              "    }\n",
              "    90% {\n",
              "      border-color: transparent;\n",
              "      border-bottom-color: var(--fill-color);\n",
              "    }\n",
              "  }\n",
              "</style>\n",
              "\n",
              "  <script>\n",
              "    async function quickchart(key) {\n",
              "      const quickchartButtonEl =\n",
              "        document.querySelector('#' + key + ' button');\n",
              "      quickchartButtonEl.disabled = true;  // To prevent multiple clicks.\n",
              "      quickchartButtonEl.classList.add('colab-df-spinner');\n",
              "      try {\n",
              "        const charts = await google.colab.kernel.invokeFunction(\n",
              "            'suggestCharts', [key], {});\n",
              "      } catch (error) {\n",
              "        console.error('Error during call to suggestCharts:', error);\n",
              "      }\n",
              "      quickchartButtonEl.classList.remove('colab-df-spinner');\n",
              "      quickchartButtonEl.classList.add('colab-df-quickchart-complete');\n",
              "    }\n",
              "    (() => {\n",
              "      let quickchartButtonEl =\n",
              "        document.querySelector('#df-2ebaeaca-b87b-4989-aec3-f75e45ca4b1d button');\n",
              "      quickchartButtonEl.style.display =\n",
              "        google.colab.kernel.accessAllowed ? 'block' : 'none';\n",
              "    })();\n",
              "  </script>\n",
              "</div>\n",
              "\n",
              "    </div>\n",
              "  </div>\n"
            ],
            "application/vnd.google.colaboratory.intrinsic+json": {
              "type": "dataframe",
              "variable_name": "df",
              "summary": "{\n  \"name\": \"df\",\n  \"rows\": 100,\n  \"fields\": [\n    {\n      \"column\": \"Feature 1\",\n      \"properties\": {\n        \"dtype\": \"number\",\n        \"std\": 0.8948840537236317,\n        \"min\": -0.8108227925373599,\n        \"max\": 3.7234688638376374,\n        \"num_unique_values\": 100,\n        \"samples\": [\n          1.5089964861493903,\n          1.2257265565685764,\n          1.195417469702126\n        ],\n        \"semantic_type\": \"\",\n        \"description\": \"\"\n      }\n    },\n    {\n      \"column\": \"Feature 2\",\n      \"properties\": {\n        \"dtype\": \"number\",\n        \"std\": 1.7977766156416364,\n        \"min\": -0.6587185466191616,\n        \"max\": 5.669330104110642,\n        \"num_unique_values\": 100,\n        \"samples\": [\n          4.38895983899337,\n          4.798388545182753,\n          3.7059203099371825\n        ],\n        \"semantic_type\": \"\",\n        \"description\": \"\"\n      }\n    }\n  ]\n}"
            }
          },
          "metadata": {},
          "execution_count": 10
        }
      ],
      "source": [
        "df = pd.DataFrame(X, columns=['Feature 1', 'Feature 2'])\n",
        "target_series = pd.Series(y)\n",
        "df.head(10)"
      ]
    },
    {
      "cell_type": "code",
      "execution_count": 11,
      "metadata": {
        "colab": {
          "base_uri": "https://localhost:8080/",
          "height": 300
        },
        "id": "NayLz9yJjMc6",
        "outputId": "a9184613-feb2-4fba-f34a-d8c62e7cf025"
      },
      "outputs": [
        {
          "output_type": "execute_result",
          "data": {
            "text/plain": [
              "        Feature 1   Feature 2\n",
              "count  100.000000  100.000000\n",
              "mean     1.501012    2.685094\n",
              "std      0.894884    1.797777\n",
              "min     -0.810823   -0.658719\n",
              "25%      1.002131    1.110792\n",
              "50%      1.500939    2.587714\n",
              "75%      2.033131    4.354567\n",
              "max      3.723469    5.669330"
            ],
            "text/html": [
              "\n",
              "  <div id=\"df-9cf859e8-6105-4f70-a87e-c3d321c1fc83\" class=\"colab-df-container\">\n",
              "    <div>\n",
              "<style scoped>\n",
              "    .dataframe tbody tr th:only-of-type {\n",
              "        vertical-align: middle;\n",
              "    }\n",
              "\n",
              "    .dataframe tbody tr th {\n",
              "        vertical-align: top;\n",
              "    }\n",
              "\n",
              "    .dataframe thead th {\n",
              "        text-align: right;\n",
              "    }\n",
              "</style>\n",
              "<table border=\"1\" class=\"dataframe\">\n",
              "  <thead>\n",
              "    <tr style=\"text-align: right;\">\n",
              "      <th></th>\n",
              "      <th>Feature 1</th>\n",
              "      <th>Feature 2</th>\n",
              "    </tr>\n",
              "  </thead>\n",
              "  <tbody>\n",
              "    <tr>\n",
              "      <th>count</th>\n",
              "      <td>100.000000</td>\n",
              "      <td>100.000000</td>\n",
              "    </tr>\n",
              "    <tr>\n",
              "      <th>mean</th>\n",
              "      <td>1.501012</td>\n",
              "      <td>2.685094</td>\n",
              "    </tr>\n",
              "    <tr>\n",
              "      <th>std</th>\n",
              "      <td>0.894884</td>\n",
              "      <td>1.797777</td>\n",
              "    </tr>\n",
              "    <tr>\n",
              "      <th>min</th>\n",
              "      <td>-0.810823</td>\n",
              "      <td>-0.658719</td>\n",
              "    </tr>\n",
              "    <tr>\n",
              "      <th>25%</th>\n",
              "      <td>1.002131</td>\n",
              "      <td>1.110792</td>\n",
              "    </tr>\n",
              "    <tr>\n",
              "      <th>50%</th>\n",
              "      <td>1.500939</td>\n",
              "      <td>2.587714</td>\n",
              "    </tr>\n",
              "    <tr>\n",
              "      <th>75%</th>\n",
              "      <td>2.033131</td>\n",
              "      <td>4.354567</td>\n",
              "    </tr>\n",
              "    <tr>\n",
              "      <th>max</th>\n",
              "      <td>3.723469</td>\n",
              "      <td>5.669330</td>\n",
              "    </tr>\n",
              "  </tbody>\n",
              "</table>\n",
              "</div>\n",
              "    <div class=\"colab-df-buttons\">\n",
              "\n",
              "  <div class=\"colab-df-container\">\n",
              "    <button class=\"colab-df-convert\" onclick=\"convertToInteractive('df-9cf859e8-6105-4f70-a87e-c3d321c1fc83')\"\n",
              "            title=\"Convert this dataframe to an interactive table.\"\n",
              "            style=\"display:none;\">\n",
              "\n",
              "  <svg xmlns=\"http://www.w3.org/2000/svg\" height=\"24px\" viewBox=\"0 -960 960 960\">\n",
              "    <path d=\"M120-120v-720h720v720H120Zm60-500h600v-160H180v160Zm220 220h160v-160H400v160Zm0 220h160v-160H400v160ZM180-400h160v-160H180v160Zm440 0h160v-160H620v160ZM180-180h160v-160H180v160Zm440 0h160v-160H620v160Z\"/>\n",
              "  </svg>\n",
              "    </button>\n",
              "\n",
              "  <style>\n",
              "    .colab-df-container {\n",
              "      display:flex;\n",
              "      gap: 12px;\n",
              "    }\n",
              "\n",
              "    .colab-df-convert {\n",
              "      background-color: #E8F0FE;\n",
              "      border: none;\n",
              "      border-radius: 50%;\n",
              "      cursor: pointer;\n",
              "      display: none;\n",
              "      fill: #1967D2;\n",
              "      height: 32px;\n",
              "      padding: 0 0 0 0;\n",
              "      width: 32px;\n",
              "    }\n",
              "\n",
              "    .colab-df-convert:hover {\n",
              "      background-color: #E2EBFA;\n",
              "      box-shadow: 0px 1px 2px rgba(60, 64, 67, 0.3), 0px 1px 3px 1px rgba(60, 64, 67, 0.15);\n",
              "      fill: #174EA6;\n",
              "    }\n",
              "\n",
              "    .colab-df-buttons div {\n",
              "      margin-bottom: 4px;\n",
              "    }\n",
              "\n",
              "    [theme=dark] .colab-df-convert {\n",
              "      background-color: #3B4455;\n",
              "      fill: #D2E3FC;\n",
              "    }\n",
              "\n",
              "    [theme=dark] .colab-df-convert:hover {\n",
              "      background-color: #434B5C;\n",
              "      box-shadow: 0px 1px 3px 1px rgba(0, 0, 0, 0.15);\n",
              "      filter: drop-shadow(0px 1px 2px rgba(0, 0, 0, 0.3));\n",
              "      fill: #FFFFFF;\n",
              "    }\n",
              "  </style>\n",
              "\n",
              "    <script>\n",
              "      const buttonEl =\n",
              "        document.querySelector('#df-9cf859e8-6105-4f70-a87e-c3d321c1fc83 button.colab-df-convert');\n",
              "      buttonEl.style.display =\n",
              "        google.colab.kernel.accessAllowed ? 'block' : 'none';\n",
              "\n",
              "      async function convertToInteractive(key) {\n",
              "        const element = document.querySelector('#df-9cf859e8-6105-4f70-a87e-c3d321c1fc83');\n",
              "        const dataTable =\n",
              "          await google.colab.kernel.invokeFunction('convertToInteractive',\n",
              "                                                    [key], {});\n",
              "        if (!dataTable) return;\n",
              "\n",
              "        const docLinkHtml = 'Like what you see? Visit the ' +\n",
              "          '<a target=\"_blank\" href=https://colab.research.google.com/notebooks/data_table.ipynb>data table notebook</a>'\n",
              "          + ' to learn more about interactive tables.';\n",
              "        element.innerHTML = '';\n",
              "        dataTable['output_type'] = 'display_data';\n",
              "        await google.colab.output.renderOutput(dataTable, element);\n",
              "        const docLink = document.createElement('div');\n",
              "        docLink.innerHTML = docLinkHtml;\n",
              "        element.appendChild(docLink);\n",
              "      }\n",
              "    </script>\n",
              "  </div>\n",
              "\n",
              "\n",
              "<div id=\"df-e9c73b7c-0704-4788-96a8-fb56b0df9693\">\n",
              "  <button class=\"colab-df-quickchart\" onclick=\"quickchart('df-e9c73b7c-0704-4788-96a8-fb56b0df9693')\"\n",
              "            title=\"Suggest charts\"\n",
              "            style=\"display:none;\">\n",
              "\n",
              "<svg xmlns=\"http://www.w3.org/2000/svg\" height=\"24px\"viewBox=\"0 0 24 24\"\n",
              "     width=\"24px\">\n",
              "    <g>\n",
              "        <path d=\"M19 3H5c-1.1 0-2 .9-2 2v14c0 1.1.9 2 2 2h14c1.1 0 2-.9 2-2V5c0-1.1-.9-2-2-2zM9 17H7v-7h2v7zm4 0h-2V7h2v10zm4 0h-2v-4h2v4z\"/>\n",
              "    </g>\n",
              "</svg>\n",
              "  </button>\n",
              "\n",
              "<style>\n",
              "  .colab-df-quickchart {\n",
              "      --bg-color: #E8F0FE;\n",
              "      --fill-color: #1967D2;\n",
              "      --hover-bg-color: #E2EBFA;\n",
              "      --hover-fill-color: #174EA6;\n",
              "      --disabled-fill-color: #AAA;\n",
              "      --disabled-bg-color: #DDD;\n",
              "  }\n",
              "\n",
              "  [theme=dark] .colab-df-quickchart {\n",
              "      --bg-color: #3B4455;\n",
              "      --fill-color: #D2E3FC;\n",
              "      --hover-bg-color: #434B5C;\n",
              "      --hover-fill-color: #FFFFFF;\n",
              "      --disabled-bg-color: #3B4455;\n",
              "      --disabled-fill-color: #666;\n",
              "  }\n",
              "\n",
              "  .colab-df-quickchart {\n",
              "    background-color: var(--bg-color);\n",
              "    border: none;\n",
              "    border-radius: 50%;\n",
              "    cursor: pointer;\n",
              "    display: none;\n",
              "    fill: var(--fill-color);\n",
              "    height: 32px;\n",
              "    padding: 0;\n",
              "    width: 32px;\n",
              "  }\n",
              "\n",
              "  .colab-df-quickchart:hover {\n",
              "    background-color: var(--hover-bg-color);\n",
              "    box-shadow: 0 1px 2px rgba(60, 64, 67, 0.3), 0 1px 3px 1px rgba(60, 64, 67, 0.15);\n",
              "    fill: var(--button-hover-fill-color);\n",
              "  }\n",
              "\n",
              "  .colab-df-quickchart-complete:disabled,\n",
              "  .colab-df-quickchart-complete:disabled:hover {\n",
              "    background-color: var(--disabled-bg-color);\n",
              "    fill: var(--disabled-fill-color);\n",
              "    box-shadow: none;\n",
              "  }\n",
              "\n",
              "  .colab-df-spinner {\n",
              "    border: 2px solid var(--fill-color);\n",
              "    border-color: transparent;\n",
              "    border-bottom-color: var(--fill-color);\n",
              "    animation:\n",
              "      spin 1s steps(1) infinite;\n",
              "  }\n",
              "\n",
              "  @keyframes spin {\n",
              "    0% {\n",
              "      border-color: transparent;\n",
              "      border-bottom-color: var(--fill-color);\n",
              "      border-left-color: var(--fill-color);\n",
              "    }\n",
              "    20% {\n",
              "      border-color: transparent;\n",
              "      border-left-color: var(--fill-color);\n",
              "      border-top-color: var(--fill-color);\n",
              "    }\n",
              "    30% {\n",
              "      border-color: transparent;\n",
              "      border-left-color: var(--fill-color);\n",
              "      border-top-color: var(--fill-color);\n",
              "      border-right-color: var(--fill-color);\n",
              "    }\n",
              "    40% {\n",
              "      border-color: transparent;\n",
              "      border-right-color: var(--fill-color);\n",
              "      border-top-color: var(--fill-color);\n",
              "    }\n",
              "    60% {\n",
              "      border-color: transparent;\n",
              "      border-right-color: var(--fill-color);\n",
              "    }\n",
              "    80% {\n",
              "      border-color: transparent;\n",
              "      border-right-color: var(--fill-color);\n",
              "      border-bottom-color: var(--fill-color);\n",
              "    }\n",
              "    90% {\n",
              "      border-color: transparent;\n",
              "      border-bottom-color: var(--fill-color);\n",
              "    }\n",
              "  }\n",
              "</style>\n",
              "\n",
              "  <script>\n",
              "    async function quickchart(key) {\n",
              "      const quickchartButtonEl =\n",
              "        document.querySelector('#' + key + ' button');\n",
              "      quickchartButtonEl.disabled = true;  // To prevent multiple clicks.\n",
              "      quickchartButtonEl.classList.add('colab-df-spinner');\n",
              "      try {\n",
              "        const charts = await google.colab.kernel.invokeFunction(\n",
              "            'suggestCharts', [key], {});\n",
              "      } catch (error) {\n",
              "        console.error('Error during call to suggestCharts:', error);\n",
              "      }\n",
              "      quickchartButtonEl.classList.remove('colab-df-spinner');\n",
              "      quickchartButtonEl.classList.add('colab-df-quickchart-complete');\n",
              "    }\n",
              "    (() => {\n",
              "      let quickchartButtonEl =\n",
              "        document.querySelector('#df-e9c73b7c-0704-4788-96a8-fb56b0df9693 button');\n",
              "      quickchartButtonEl.style.display =\n",
              "        google.colab.kernel.accessAllowed ? 'block' : 'none';\n",
              "    })();\n",
              "  </script>\n",
              "</div>\n",
              "\n",
              "    </div>\n",
              "  </div>\n"
            ],
            "application/vnd.google.colaboratory.intrinsic+json": {
              "type": "dataframe",
              "summary": "{\n  \"name\": \"df\",\n  \"rows\": 8,\n  \"fields\": [\n    {\n      \"column\": \"Feature 1\",\n      \"properties\": {\n        \"dtype\": \"number\",\n        \"std\": 34.880884599346984,\n        \"min\": -0.8108227925373599,\n        \"max\": 100.0,\n        \"num_unique_values\": 8,\n        \"samples\": [\n          1.5010122347215868,\n          1.5009386213302898,\n          100.0\n        ],\n        \"semantic_type\": \"\",\n        \"description\": \"\"\n      }\n    },\n    {\n      \"column\": \"Feature 2\",\n      \"properties\": {\n        \"dtype\": \"number\",\n        \"std\": 34.52278794293379,\n        \"min\": -0.6587185466191616,\n        \"max\": 100.0,\n        \"num_unique_values\": 8,\n        \"samples\": [\n          2.6850944003730333,\n          2.5877141447920415,\n          100.0\n        ],\n        \"semantic_type\": \"\",\n        \"description\": \"\"\n      }\n    }\n  ]\n}"
            }
          },
          "metadata": {},
          "execution_count": 11
        }
      ],
      "source": [
        "df.describe()"
      ]
    },
    {
      "cell_type": "code",
      "execution_count": 12,
      "metadata": {
        "colab": {
          "base_uri": "https://localhost:8080/",
          "height": 147
        },
        "id": "nXxrbeBljMc6",
        "outputId": "5bd86cd8-df39-47bb-f252-1e58d8912ed4"
      },
      "outputs": [
        {
          "output_type": "execute_result",
          "data": {
            "text/plain": [
              "1    50\n",
              "0    50\n",
              "Name: count, dtype: int64"
            ],
            "text/html": [
              "<div>\n",
              "<style scoped>\n",
              "    .dataframe tbody tr th:only-of-type {\n",
              "        vertical-align: middle;\n",
              "    }\n",
              "\n",
              "    .dataframe tbody tr th {\n",
              "        vertical-align: top;\n",
              "    }\n",
              "\n",
              "    .dataframe thead th {\n",
              "        text-align: right;\n",
              "    }\n",
              "</style>\n",
              "<table border=\"1\" class=\"dataframe\">\n",
              "  <thead>\n",
              "    <tr style=\"text-align: right;\">\n",
              "      <th></th>\n",
              "      <th>count</th>\n",
              "    </tr>\n",
              "  </thead>\n",
              "  <tbody>\n",
              "    <tr>\n",
              "      <th>1</th>\n",
              "      <td>50</td>\n",
              "    </tr>\n",
              "    <tr>\n",
              "      <th>0</th>\n",
              "      <td>50</td>\n",
              "    </tr>\n",
              "  </tbody>\n",
              "</table>\n",
              "</div><br><label><b>dtype:</b> int64</label>"
            ]
          },
          "metadata": {},
          "execution_count": 12
        }
      ],
      "source": [
        "class_counts = target_series.value_counts()\n",
        "class_counts"
      ]
    },
    {
      "cell_type": "markdown",
      "metadata": {
        "id": "dVtons_mjMc7"
      },
      "source": [
        "### 2. Визуализируйте сгенерироавнные данные на диаграмме рассеивания, подкрасив классы разными цветами. Подпишите классы."
      ]
    },
    {
      "cell_type": "code",
      "execution_count": 13,
      "metadata": {
        "colab": {
          "base_uri": "https://localhost:8080/",
          "height": 472
        },
        "id": "hQrS7jzYjMc7",
        "outputId": "43a94982-1aae-43b2-fd90-a153e413d95a"
      },
      "outputs": [
        {
          "output_type": "display_data",
          "data": {
            "text/plain": [
              "<Figure size 640x480 with 1 Axes>"
            ],
            "image/png": "[encoded data removed]"
          },
          "metadata": {}
        }
      ],
      "source": [
        "plt.scatter(X[:, 0][y == 0], X[:, 1][y == 0],  c = 'red', label = 'class0')\n",
        "plt.scatter(X[:, 0][y == 1], X[:, 1][y == 1],  c = 'yellow', label = 'class1')\n",
        "plt.xlabel('X0')\n",
        "plt.ylabel('X1')\n",
        "plt.title(\"Визуализация классов\")\n",
        "plt.legend()\n",
        "plt.show()"
      ]
    },
    {
      "cell_type": "markdown",
      "metadata": {
        "id": "s-cQw5m0jMc7"
      },
      "source": [
        "### 3. Напишите функцию сигмоида $\\sigma(z) = \\dfrac{1}{1 + e^{- z}}.$ Вычислите её значения на случайном векторе длины 100."
      ]
    },
    {
      "cell_type": "code",
      "execution_count": 14,
      "metadata": {
        "id": "ZaiUwoawjMc7"
      },
      "outputs": [],
      "source": [
        "def sigmoid(z):\n",
        "    return 1/(1 + np.exp(-z))"
      ]
    },
    {
      "cell_type": "code",
      "execution_count": 15,
      "metadata": {
        "id": "5IDt8Qt2jMc7"
      },
      "outputs": [],
      "source": [
        "random_vector = np.random.randn(100)"
      ]
    },
    {
      "cell_type": "code",
      "execution_count": 16,
      "metadata": {
        "colab": {
          "base_uri": "https://localhost:8080/"
        },
        "id": "c1LMjzI_jMc7",
        "outputId": "b09eafa9-0e8b-4328-dab1-353e1a5b5261"
      },
      "outputs": [
        {
          "output_type": "execute_result",
          "data": {
            "text/plain": [
              "array([0.58061431, 0.57597639, 0.43018509, 0.73769111, 0.36894435,\n",
              "       0.27563696, 0.72155921, 0.81332262, 0.45333057, 0.16202654,\n",
              "       0.41795605, 0.45724613, 0.35332054, 0.76126789, 0.27899033,\n",
              "       0.70484404, 0.51844635, 0.82329642, 0.89074708, 0.54217951,\n",
              "       0.75991659, 0.67848745, 0.46250537, 0.79367364, 0.16420124,\n",
              "       0.19687576, 0.22130336, 0.56403339, 0.41431225, 0.22387115,\n",
              "       0.69396839, 0.38575618, 0.46816955, 0.24858457, 0.62243736,\n",
              "       0.32060802, 0.80819261, 0.62028205, 0.2951548 , 0.6066688 ,\n",
              "       0.56103852, 0.50032081, 0.46005783, 0.77036336, 0.65411755,\n",
              "       0.48148142, 0.42627835, 0.43432024, 0.69522648, 0.88211354,\n",
              "       0.17605355, 0.66874311, 0.57238865, 0.32524049, 0.17103983,\n",
              "       0.67691287, 0.37197669, 0.73615868, 0.13620005, 0.28707492,\n",
              "       0.63022278, 0.39053838, 0.78601082, 0.30770209, 0.12335842,\n",
              "       0.50057486, 0.14362326, 0.05687082, 0.67697115, 0.67038788,\n",
              "       0.31656508, 0.65700009, 0.25098646, 0.45715415, 0.62067805,\n",
              "       0.69751039, 0.58065169, 0.41109204, 0.44067404, 0.54470824,\n",
              "       0.60215693, 0.42870505, 0.36390489, 0.26627377, 0.59879008,\n",
              "       0.39074622, 0.19805101, 0.39477859, 0.4995173 , 0.27045483,\n",
              "       0.60575472, 0.72108981, 0.69844169, 0.10169093, 0.56045759,\n",
              "       0.17851638, 0.41793886, 0.27688192, 0.49349321, 0.73871405])"
            ]
          },
          "metadata": {},
          "execution_count": 16
        }
      ],
      "source": [
        "sigmoid(random_vector)"
      ]
    },
    {
      "cell_type": "markdown",
      "metadata": {
        "id": "QQmKRgmPjMc7"
      },
      "source": [
        "### 4. Напишите функцию, вычисляющую предсказание вероятности того, что значение принадлежит классу единица в случае двух признаков $\\vec{p} =\\sigma(w_0 + w_1 \\vec{x}_1+ w_2 \\vec{x}_2)$. Назовите её predict_proba. Вычислите её значения на сгенерированных данных X в случайной точке $w$."
      ]
    },
    {
      "cell_type": "code",
      "execution_count": 17,
      "metadata": {
        "id": "D530vQ8MjMc7"
      },
      "outputs": [],
      "source": [
        "def predict_proba(w, X):\n",
        "        return sigmoid(w[0] + w[1]*X[:,0] + w[2]*X[:,1])"
      ]
    },
    {
      "cell_type": "code",
      "execution_count": 18,
      "metadata": {
        "colab": {
          "base_uri": "https://localhost:8080/"
        },
        "id": "0-kTAkGajMc7",
        "outputId": "37dc155f-6189-4bcb-a13f-627c04c8265b"
      },
      "outputs": [
        {
          "output_type": "execute_result",
          "data": {
            "text/plain": [
              "array([0.71161669, 0.63241384, 0.26755778, 0.40466793, 0.70987792,\n",
              "       0.45428939, 0.36845977, 0.69495745, 0.35228061, 0.66058061,\n",
              "       0.33384916, 0.66159268, 0.324539  , 0.31212297, 0.61942134,\n",
              "       0.73643838, 0.76069394, 0.34098776, 0.62507603, 0.60617837,\n",
              "       0.34826774, 0.3399945 , 0.55978156, 0.26648566, 0.70022942,\n",
              "       0.33439044, 0.66938242, 0.28198801, 0.36448123, 0.62372743,\n",
              "       0.7309559 , 0.34734554, 0.61192485, 0.7315358 , 0.56101427,\n",
              "       0.4262066 , 0.63450952, 0.58678442, 0.47546524, 0.57353126,\n",
              "       0.37031565, 0.36679883, 0.20831119, 0.40987934, 0.51711743,\n",
              "       0.64867699, 0.71582975, 0.71035306, 0.263853  , 0.28649915,\n",
              "       0.69251241, 0.59211615, 0.34537129, 0.34341791, 0.54669398,\n",
              "       0.34584328, 0.52085275, 0.64596406, 0.69786675, 0.75982618,\n",
              "       0.60659618, 0.41289837, 0.26453743, 0.68274366, 0.30137825,\n",
              "       0.55379211, 0.34112892, 0.50180446, 0.69195492, 0.43681259,\n",
              "       0.41331109, 0.68153725, 0.71597082, 0.38828215, 0.39648559,\n",
              "       0.3429689 , 0.58579215, 0.6576059 , 0.35239232, 0.33720026,\n",
              "       0.53543259, 0.38500077, 0.25949358, 0.39025234, 0.38635116,\n",
              "       0.29868141, 0.71829798, 0.36394234, 0.64175285, 0.70413201,\n",
              "       0.66948954, 0.73385075, 0.57124984, 0.68825378, 0.44404   ,\n",
              "       0.22072795, 0.7314424 , 0.70863659, 0.29118778, 0.56797134])"
            ]
          },
          "metadata": {},
          "execution_count": 18
        }
      ],
      "source": [
        "predict_proba(random_vector, X)"
      ]
    },
    {
      "cell_type": "markdown",
      "metadata": {
        "id": "nMaiPQGOjMc7"
      },
      "source": [
        "### 5. Напишите функцию ошибки (logLoss) логистической регрессии.\n",
        "Указание: $logLoss(\\vec y, \\vec p) = -\\frac{1}{n}\\sum_{i=1}^{n} (y_i \\ln (p_i) + (1 - y_i) \\ln (1 - p_i))$, где $p_i = \\sigma(w_0 + w_1 {x}_{i1}+ w_2 {x}_{i2}).$ Используйте написанную функцию predict_proba."
      ]
    },
    {
      "cell_type": "code",
      "execution_count": 19,
      "metadata": {
        "id": "CIh1dBIkjMc7"
      },
      "outputs": [],
      "source": [
        "def logLoss(w, X, y):\n",
        "    n = X.shape[0]\n",
        "    p = predict_proba(w, X)\n",
        "    return -1/n * np.sum(y * np.log(p) + (1-y)*np.log(1-p))"
      ]
    },
    {
      "cell_type": "code",
      "execution_count": 20,
      "metadata": {
        "colab": {
          "base_uri": "https://localhost:8080/"
        },
        "id": "czeErWhIjMc8",
        "outputId": "550790d8-ec48-4661-aad8-16b212992527"
      },
      "outputs": [
        {
          "output_type": "execute_result",
          "data": {
            "text/plain": [
              "0.43723014086361434"
            ]
          },
          "metadata": {},
          "execution_count": 20
        }
      ],
      "source": [
        "logLoss(random_vector, X, y)"
      ]
    },
    {
      "cell_type": "markdown",
      "metadata": {
        "id": "Gnn-yeYljMc8"
      },
      "source": [
        "### 6. Реализуйте функцию, которая вычисляет градиент функции ошибки логистической регрессии с двумя признаками.\n",
        "Указание: $$ \\frac{\\partial }{\\partial w_0}logLoss(\\vec w, X , \\vec y) =\\frac{1}{n}\\sum_{i=1}^{n} (\\sigma(w_0 + w_1 x_{i 1}+ w_2 x_{i 2}) - {y}_i)$$\n",
        "$$\\frac{\\partial }{\\partial w_1}logLoss(\\vec w, X, \\vec y) =\\frac{1}{n}\\sum_{i=1}^{n} (\\sigma(w_0 + w_1 x_{i 1}+ w_2 x_{i 2}) - {y}_i){x}_{i 1}$$\n",
        "$$\\frac{\\partial }{\\partial w_2}logLoss(\\vec w, X, \\vec y) =\\frac{1}{n}\\sum_{i=1}^{n} (\\sigma(w_0 + w_1 x_{i 1}+ w_2 x_{i 2}) - {y}_i){x}_{i 2}$$"
      ]
    },
    {
      "cell_type": "code",
      "execution_count": 41,
      "metadata": {
        "id": "i7pad_EjjMc8"
      },
      "outputs": [],
      "source": [
        "def gradient_logLoss(w, X, y):\n",
        "    n = X.shape[0]\n",
        "    p = predict_proba(w, X)\n",
        "\n",
        "    grad_1 = 1/n * np.sum(p - y)\n",
        "    grad_2 = 1/n * np.sum((p - y) * X[:,0])\n",
        "    grad_3 = 1/n * np.sum((p - y) * X[:,1])\n",
        "\n",
        "    return np.array([grad_1, grad_2, grad_3])"
      ]
    },
    {
      "cell_type": "code",
      "execution_count": 43,
      "metadata": {
        "colab": {
          "base_uri": "https://localhost:8080/"
        },
        "id": "9Y90Vo0VjMc8",
        "outputId": "4e97003d-f2b5-431c-b1c0-469629d35db0"
      },
      "outputs": [
        {
          "output_type": "execute_result",
          "data": {
            "text/plain": [
              "array([ 0.00709083, -0.14396164,  0.56467017])"
            ]
          },
          "metadata": {},
          "execution_count": 43
        }
      ],
      "source": [
        "gradient_logLoss(random_vector, X, y)"
      ]
    },
    {
      "cell_type": "markdown",
      "metadata": {
        "id": "5pGdJbcjjMc8"
      },
      "source": [
        "### 7. Создайте класс, реализующий модель логистической регрессии. Найдите оптимальные значения коэффициентов разделяющей гиперплоскости.\n",
        "Указание: Необходимо создать класс, реализующий метод градиентного спуска для logLoss функции.\n",
        "Воспользуйтесь для этого классом GradientDiscent, написанный в предыдущих ноутбуках, добавив туда gradient_logLoss, sigmoid и predict_proba."
      ]
    },
    {
      "cell_type": "code",
      "execution_count": 36,
      "metadata": {
        "id": "aa-JFi3tjMc8"
      },
      "outputs": [],
      "source": [
        "class GradientDiscent():\n",
        "    def __init__(self, max_iter):\n",
        "        self.w = None\n",
        "        self.max_iter_ = max_iter\n",
        "\n",
        "    def sigmoid(self, z):\n",
        "        return 1/(1 + np.exp(-z))\n",
        "\n",
        "    def predict_proba(self,w, X):\n",
        "        return self.sigmoid(self.w[0] + self.w[1]*X[:,0] + self.w[2]*X[:,1])\n",
        "\n",
        "    def gradient_F(self, X, y):\n",
        "        n = X.shape[0]\n",
        "        p = self.predict_proba(self.w, X)\n",
        "\n",
        "        grad_1 = 1/n * np.sum(p - y)\n",
        "        grad_2 = 1/n * np.sum((p - y) * X[:,0])\n",
        "        grad_3 = 1/n * np.sum((p - y) * X[:,1])\n",
        "\n",
        "        return np.array([grad_1, grad_2, grad_3])\n",
        "\n",
        "    def GD(self, a, b, w_start, learning_rate=100):\n",
        "        self.w = w_start\n",
        "\n",
        "        for _ in range(self.max_iter_):\n",
        "            self.w = self.w - learning_rate *self.gradient_F(a, b)\n",
        "        assert (-1e+06 < self.w).all() and (self.w < 1e+06).all(), \"Расходимость: слишком большой learning_rate, либо неудачно выбрана начальная точка, либо минимум не достигается\"\n",
        "        assert (-1e-04 < self.gradient_F(a, b)).all() and (self.gradient_F(a, b) < 1e-04).all(), \"Недостаточно шагов градиентного спуска\"\n",
        "\n",
        "    def fit(self, a, b):\n",
        "        w_start = np.zeros(3)\n",
        "        self.GD(a, b, w_start)"
      ]
    },
    {
      "cell_type": "code",
      "execution_count": 37,
      "metadata": {
        "id": "LCPJbq2cjMc8"
      },
      "outputs": [],
      "source": [
        "gd = GradientDiscent(1000)\n",
        "gd.fit(X, y)"
      ]
    },
    {
      "cell_type": "code",
      "execution_count": 38,
      "metadata": {
        "colab": {
          "base_uri": "https://localhost:8080/"
        },
        "id": "kP5SNI5zjMc8",
        "outputId": "c48acbf8-2070-435b-8bad-a68fbb6e9d3c"
      },
      "outputs": [
        {
          "output_type": "execute_result",
          "data": {
            "text/plain": [
              "array([ 87.84969725,  34.8622397 , -55.66336635])"
            ]
          },
          "metadata": {},
          "execution_count": 38
        }
      ],
      "source": [
        "gd.w"
      ]
    },
    {
      "cell_type": "markdown",
      "metadata": {
        "id": "vUP6TMqgjMc8"
      },
      "source": [
        "### 8. Напечатайте уравнение линии регрессии, полученной в результате применения модели логистической регрессии к данным X, y.\n",
        "Указание: Используйте print. Уравнение прямой должно иметь вид $w_0 + w_1 x_1  + w_2 x_2 = 0$. Выводите коэффициенты линии регрессии с точностью два знака после запятой. Учтите то, что эти коэффициенты могут быть и отрицательными."
      ]
    },
    {
      "cell_type": "code",
      "execution_count": 39,
      "metadata": {
        "colab": {
          "base_uri": "https://localhost:8080/"
        },
        "id": "RQEB-yj5jMdC",
        "outputId": "8f7f7fe3-f22f-45f3-be6f-5947a3e2faaa"
      },
      "outputs": [
        {
          "output_type": "stream",
          "name": "stdout",
          "text": [
            "87.85 + 34.86 * x1 -55.66 * x2 = 0\n"
          ]
        }
      ],
      "source": [
        "res = f'{gd.w[0]:.2f}'\n",
        "for i in range(1, len(gd.w)):\n",
        "    if gd.w[i] > 0:\n",
        "        res += f' + {gd.w[i]:.2f} * x{i} '\n",
        "    else:\n",
        "        res += f'{gd.w[i]:.2f} * x{i}'\n",
        "print(f'{res} = 0')"
      ]
    },
    {
      "cell_type": "markdown",
      "metadata": {
        "id": "pYqP9FCejMdD"
      },
      "source": [
        "### 9. Добавьте в класс GradientDiscent метод predict, осуществляющий предсказание. Назовите созданный класс Logistic_Regression. Сделайте предсказание на X.\n",
        "Указание: Предсказания принадлежности к классу вычисляются так: если вероятность принадлежать классу единица $\\sigma(w_0 + w_1 x) > 1/2$, то присваиваем метку класса - единица, в противном случае метка класса - нуль."
      ]
    },
    {
      "cell_type": "code",
      "execution_count": 49,
      "metadata": {
        "id": "1OmGIheIjMdD"
      },
      "outputs": [],
      "source": [
        "class Logistic_Regression():\n",
        "    def __init__(self, max_iter):\n",
        "        self.w = None\n",
        "        self.max_iter_ = max_iter\n",
        "\n",
        "    def sigmoida(self, z):\n",
        "        return 1/(1 + np.exp(-z))\n",
        "\n",
        "    def predict_proba(self, X):\n",
        "        return self.sigmoida(self.w[0] + self.w[1]*X[:, 0] + self.w[2]*X[:, 1])\n",
        "\n",
        "    def predict(self, X):\n",
        "        y_pred = self.predict_proba(X) > 0.5\n",
        "        return np.where(y_pred==False, 0, y_pred)\n",
        "\n",
        "    def gradient_F(self, X, y):\n",
        "        n = X.shape[0]\n",
        "        p = self.predict_proba(X)\n",
        "\n",
        "        grad_1 = 1/n * np.sum(p - y)\n",
        "        grad_2 = 1/n * np.sum((p - y) * X[:, 0])\n",
        "        grad_3 = 1/n * np.sum((p - y) * X[:, 1])\n",
        "\n",
        "        return np.array([grad_1, grad_2, grad_3])\n",
        "\n",
        "    def GD(self, a, b, w_start, learning_rate=100):\n",
        "        self.w = w_start\n",
        "\n",
        "        for _ in range(self.max_iter_):\n",
        "            self.w = self.w - learning_rate *self.gradient_F(a, b)\n",
        "        assert (-1e+06 < self.w).all() and (self.w < 1e+06).all(), \"Расходимость: слишком большой learning_rate, либо неудачно выбрана начальная точка, либо минимум не достигается\"\n",
        "        assert (-1e-04 < self.gradient_F(a, b)).all() and (self.gradient_F(a, b) < 1e-04).all(), \"Недостаточно шагов градиентного спуска\"\n",
        "\n",
        "    def fit(self, a, b):\n",
        "        w_start = np.zeros(3)\n",
        "        self.GD(a, b, w_start)"
      ]
    },
    {
      "cell_type": "code",
      "execution_count": 50,
      "metadata": {
        "id": "9ngtTi7AjMdD"
      },
      "outputs": [],
      "source": [
        "lr = Logistic_Regression(1000)\n",
        "lr.fit(X, y)"
      ]
    },
    {
      "cell_type": "code",
      "execution_count": 51,
      "metadata": {
        "colab": {
          "base_uri": "https://localhost:8080/"
        },
        "id": "YfSx3SW0jMdD",
        "outputId": "53100983-cbe8-4334-e425-1f2bcfc968c5"
      },
      "outputs": [
        {
          "output_type": "execute_result",
          "data": {
            "text/plain": [
              "array([1, 1, 0, 0, 1, 0, 0, 1, 0, 1, 0, 1, 0, 0, 1, 1, 1, 0, 1, 1, 0, 0,\n",
              "       1, 0, 1, 0, 1, 0, 0, 1, 1, 0, 1, 1, 1, 0, 1, 1, 0, 1, 0, 0, 0, 0,\n",
              "       1, 1, 1, 1, 0, 0, 1, 1, 0, 0, 0, 0, 0, 1, 1, 1, 1, 0, 0, 1, 0, 1,\n",
              "       0, 0, 1, 0, 0, 1, 1, 0, 0, 0, 1, 1, 0, 0, 1, 0, 0, 0, 0, 0, 1, 0,\n",
              "       1, 1, 1, 1, 1, 1, 0, 0, 1, 1, 0, 1])"
            ]
          },
          "metadata": {},
          "execution_count": 51
        }
      ],
      "source": [
        "lr.predict(X)"
      ]
    },
    {
      "cell_type": "markdown",
      "metadata": {
        "id": "w7RfeySUjMdD"
      },
      "source": [
        "### 10. Постройте найденную линию разделения и диаграмму рассеивания данных на одном графике двумя способами: как уравнение прямой и как линия нулевого уровня плоскости.\n",
        "Указание: Уравнение линии разделения есть $w_0 + w_1 x_{1}+ w_2 x_{2} = 0.$\n",
        "\n",
        "1) Прямая $x_{2} = -(w_0 + w_1 x_{1})/ w_2.$\n",
        "           \n",
        "2) Линия уровня поверхности $z(x_1, x_2) = w_0 + w_1 x_{1}+ w_2 x_{2}$"
      ]
    },
    {
      "cell_type": "code",
      "execution_count": 52,
      "metadata": {
        "id": "Iab5L2gLjMdD"
      },
      "outputs": [],
      "source": [
        "X0_line = np.linspace(X[:,0].min(), X[:,0].max(), 100)\n",
        "X1_line = np.linspace(X[:,1].min(), X[:,1].max(), 100)"
      ]
    },
    {
      "cell_type": "code",
      "execution_count": 53,
      "metadata": {
        "id": "O_kgYjlrjMdD"
      },
      "outputs": [],
      "source": [
        "x1_grid, x2_grid = np.meshgrid(X0_line, X1_line)\n",
        "z = lr.w[0] + lr.w[1] * x1_grid + lr.w[2] * x2_grid"
      ]
    },
    {
      "cell_type": "code",
      "execution_count": 54,
      "metadata": {
        "colab": {
          "base_uri": "https://localhost:8080/",
          "height": 472
        },
        "id": "AnJOLlxljMdD",
        "outputId": "96d79d01-3460-4321-a812-dcc394428ace"
      },
      "outputs": [
        {
          "output_type": "display_data",
          "data": {
            "text/plain": [
              "<Figure size 640x480 with 1 Axes>"
            ],
            "image/png": "[encoded data removed]"
          },
          "metadata": {}
        }
      ],
      "source": [
        "plt.scatter(X[:, 0][y == 0], X[:, 1][y == 0],  c = 'red', label = 'class0')\n",
        "plt.scatter(X[:, 0][y == 1], X[:, 1][y == 1],  c = 'yellow', label = 'class1')\n",
        "plt.plot(X0_line, -(lr.w[0] + lr.w[1] * X0_line) / lr.w[2], c = 'black')\n",
        "plt.xlabel('X0')\n",
        "plt.ylabel('X1')\n",
        "plt.title(\"Визуализация классов\")\n",
        "plt.legend()\n",
        "plt.show()"
      ]
    },
    {
      "cell_type": "code",
      "execution_count": 55,
      "metadata": {
        "colab": {
          "base_uri": "https://localhost:8080/",
          "height": 472
        },
        "id": "C_ys0B40jMdD",
        "outputId": "782dd35c-e7d3-459f-8c81-feea49beeabf"
      },
      "outputs": [
        {
          "output_type": "display_data",
          "data": {
            "text/plain": [
              "<Figure size 640x480 with 1 Axes>"
            ],
            "image/png": "[encoded data removed]"
          },
          "metadata": {}
        }
      ],
      "source": [
        "plt.scatter(X[:, 0][y == 0], X[:, 1][y == 0],  c = 'red', label = 'class0')\n",
        "plt.scatter(X[:, 0][y == 1], X[:, 1][y == 1],  c = 'yellow', label = 'class1')\n",
        "plt.contour(x1_grid, x2_grid, z, levels = 0, colors='blue')\n",
        "plt.xlabel('X0')\n",
        "plt.ylabel('X1')\n",
        "plt.title(\"Визуализация классов\")\n",
        "plt.legend()\n",
        "plt.xlim(X[:,0].min() - 0.5, X[:,0].max() + 0.5)\n",
        "plt.ylim(X[:,1].min() - 0.5, X[:,1].max() + 0.5)\n",
        "plt.show()"
      ]
    },
    {
      "cell_type": "markdown",
      "metadata": {
        "id": "9suTQac1jMdD"
      },
      "source": [
        "### 11. Создайте новое наблюдение, например, взяв медианное значение по каждому столбцу X. Сделайте предсказание на нём.\n",
        "Указание: Обртите внимание, что метод predict принимает только двумерные numpy-массивы."
      ]
    },
    {
      "cell_type": "code",
      "execution_count": 56,
      "metadata": {
        "colab": {
          "base_uri": "https://localhost:8080/"
        },
        "id": "7lbgy3_djMdE",
        "outputId": "784cd1d0-dc44-4a63-8976-b788fc8b0a50"
      },
      "outputs": [
        {
          "output_type": "execute_result",
          "data": {
            "text/plain": [
              "array([0])"
            ]
          },
          "metadata": {},
          "execution_count": 56
        }
      ],
      "source": [
        "new_observation = np.median(X, axis=0).reshape(1, -1)\n",
        "lr.predict(new_observation)"
      ]
    },
    {
      "cell_type": "markdown",
      "metadata": {
        "id": "xqibgbTMjMdE"
      },
      "source": [
        "### 12.Визуализируйте области разделения на классы и диаграмму рассеивания данных на одном графике. Изобразите точкой предсказанное значение. Убедитесь в том, что оно расположено в нужной области.\n",
        "Указание: Области разделения на классы визуализируйте, используя [contourf](https://matplotlib.org/stable/api/_as_gen/matplotlib.pyplot.contourf.html)."
      ]
    },
    {
      "cell_type": "code",
      "execution_count": 57,
      "metadata": {
        "colab": {
          "base_uri": "https://localhost:8080/",
          "height": 564
        },
        "id": "lwg_dNsYjMdE",
        "outputId": "a7374f64-857d-4d9f-84b9-fe61818f0050"
      },
      "outputs": [
        {
          "output_type": "display_data",
          "data": {
            "text/plain": [
              "<Figure size 1000x600 with 1 Axes>"
            ],
            "image/png": "[encoded data removed]"
          },
          "metadata": {}
        }
      ],
      "source": [
        "x_min, x_max = X[:, 0].min() - 1, X[:, 0].max() + 1\n",
        "y_min, y_max = X[:, 1].min() - 1, X[:, 1].max() + 1\n",
        "xx, yy = np.meshgrid(np.linspace(x_min, x_max, 100), np.linspace(y_min, y_max, 100))\n",
        "\n",
        "Z = lr.predict_proba(np.c_[xx.ravel(), yy.ravel()])\n",
        "Z = Z.reshape(xx.shape)\n",
        "\n",
        "plt.figure(figsize=(10, 6))\n",
        "plt.contourf(xx, yy, Z, alpha=0.8, cmap='coolwarm')\n",
        "plt.scatter(X[:, 0], X[:, 1], c=y, edgecolor='k', cmap='coolwarm', marker='o')\n",
        "plt.scatter(new_observation[0][0], new_observation[0][1], color='black', s=20)\n",
        "plt.xlabel('X0')\n",
        "plt.ylabel('X1')\n",
        "plt.title(\"Визуализация классов\")\n",
        "plt.show()"
      ]
    },
    {
      "cell_type": "markdown",
      "metadata": {
        "id": "3ozfIpANjMdE"
      },
      "source": [
        "### 13. Сгенерируйте данные и значения целевой переменной для задачи классификации с 3 признаками и 100 наблюдениями. Представьте признаки в виде датафрейма и выведите его первые 10 строк и описательную статистику. Целевую переменную представьте в виде серии и выведите количество элементов в каждом классе."
      ]
    },
    {
      "cell_type": "code",
      "execution_count": 58,
      "metadata": {
        "colab": {
          "base_uri": "https://localhost:8080/",
          "height": 363
        },
        "id": "FO0TA8CYjMdE",
        "outputId": "f77d28bb-3546-49d3-e918-ca452e20ccaf"
      },
      "outputs": [
        {
          "output_type": "execute_result",
          "data": {
            "text/plain": [
              "      $X_1$     $X_2$     $X_3$\n",
              "0  1.506507 -2.572157  4.129028\n",
              "1  2.024300 -2.606836  1.770414\n",
              "2  1.287757 -2.179313  2.526929\n",
              "3  2.115671  3.068962  2.457609\n",
              "4  0.986086 -1.837790  3.015282\n",
              "5  2.919891  3.890168  1.307813\n",
              "6  0.855407 -2.482849  2.571900\n",
              "7  0.538196  3.050992  2.832758\n",
              "8  1.363173  3.792982  0.874635\n",
              "9  0.291460  3.432990  1.476418"
            ],
            "text/html": [
              "\n",
              "  <div id=\"df-bae17df2-5d76-4865-ad6f-f6e190a4c9b1\" class=\"colab-df-container\">\n",
              "    <div>\n",
              "<style scoped>\n",
              "    .dataframe tbody tr th:only-of-type {\n",
              "        vertical-align: middle;\n",
              "    }\n",
              "\n",
              "    .dataframe tbody tr th {\n",
              "        vertical-align: top;\n",
              "    }\n",
              "\n",
              "    .dataframe thead th {\n",
              "        text-align: right;\n",
              "    }\n",
              "</style>\n",
              "<table border=\"1\" class=\"dataframe\">\n",
              "  <thead>\n",
              "    <tr style=\"text-align: right;\">\n",
              "      <th></th>\n",
              "      <th>$X_1$</th>\n",
              "      <th>$X_2$</th>\n",
              "      <th>$X_3$</th>\n",
              "    </tr>\n",
              "  </thead>\n",
              "  <tbody>\n",
              "    <tr>\n",
              "      <th>0</th>\n",
              "      <td>1.506507</td>\n",
              "      <td>-2.572157</td>\n",
              "      <td>4.129028</td>\n",
              "    </tr>\n",
              "    <tr>\n",
              "      <th>1</th>\n",
              "      <td>2.024300</td>\n",
              "      <td>-2.606836</td>\n",
              "      <td>1.770414</td>\n",
              "    </tr>\n",
              "    <tr>\n",
              "      <th>2</th>\n",
              "      <td>1.287757</td>\n",
              "      <td>-2.179313</td>\n",
              "      <td>2.526929</td>\n",
              "    </tr>\n",
              "    <tr>\n",
              "      <th>3</th>\n",
              "      <td>2.115671</td>\n",
              "      <td>3.068962</td>\n",
              "      <td>2.457609</td>\n",
              "    </tr>\n",
              "    <tr>\n",
              "      <th>4</th>\n",
              "      <td>0.986086</td>\n",
              "      <td>-1.837790</td>\n",
              "      <td>3.015282</td>\n",
              "    </tr>\n",
              "    <tr>\n",
              "      <th>5</th>\n",
              "      <td>2.919891</td>\n",
              "      <td>3.890168</td>\n",
              "      <td>1.307813</td>\n",
              "    </tr>\n",
              "    <tr>\n",
              "      <th>6</th>\n",
              "      <td>0.855407</td>\n",
              "      <td>-2.482849</td>\n",
              "      <td>2.571900</td>\n",
              "    </tr>\n",
              "    <tr>\n",
              "      <th>7</th>\n",
              "      <td>0.538196</td>\n",
              "      <td>3.050992</td>\n",
              "      <td>2.832758</td>\n",
              "    </tr>\n",
              "    <tr>\n",
              "      <th>8</th>\n",
              "      <td>1.363173</td>\n",
              "      <td>3.792982</td>\n",
              "      <td>0.874635</td>\n",
              "    </tr>\n",
              "    <tr>\n",
              "      <th>9</th>\n",
              "      <td>0.291460</td>\n",
              "      <td>3.432990</td>\n",
              "      <td>1.476418</td>\n",
              "    </tr>\n",
              "  </tbody>\n",
              "</table>\n",
              "</div>\n",
              "    <div class=\"colab-df-buttons\">\n",
              "\n",
              "  <div class=\"colab-df-container\">\n",
              "    <button class=\"colab-df-convert\" onclick=\"convertToInteractive('df-bae17df2-5d76-4865-ad6f-f6e190a4c9b1')\"\n",
              "            title=\"Convert this dataframe to an interactive table.\"\n",
              "            style=\"display:none;\">\n",
              "\n",
              "  <svg xmlns=\"http://www.w3.org/2000/svg\" height=\"24px\" viewBox=\"0 -960 960 960\">\n",
              "    <path d=\"M120-120v-720h720v720H120Zm60-500h600v-160H180v160Zm220 220h160v-160H400v160Zm0 220h160v-160H400v160ZM180-400h160v-160H180v160Zm440 0h160v-160H620v160ZM180-180h160v-160H180v160Zm440 0h160v-160H620v160Z\"/>\n",
              "  </svg>\n",
              "    </button>\n",
              "\n",
              "  <style>\n",
              "    .colab-df-container {\n",
              "      display:flex;\n",
              "      gap: 12px;\n",
              "    }\n",
              "\n",
              "    .colab-df-convert {\n",
              "      background-color: #E8F0FE;\n",
              "      border: none;\n",
              "      border-radius: 50%;\n",
              "      cursor: pointer;\n",
              "      display: none;\n",
              "      fill: #1967D2;\n",
              "      height: 32px;\n",
              "      padding: 0 0 0 0;\n",
              "      width: 32px;\n",
              "    }\n",
              "\n",
              "    .colab-df-convert:hover {\n",
              "      background-color: #E2EBFA;\n",
              "      box-shadow: 0px 1px 2px rgba(60, 64, 67, 0.3), 0px 1px 3px 1px rgba(60, 64, 67, 0.15);\n",
              "      fill: #174EA6;\n",
              "    }\n",
              "\n",
              "    .colab-df-buttons div {\n",
              "      margin-bottom: 4px;\n",
              "    }\n",
              "\n",
              "    [theme=dark] .colab-df-convert {\n",
              "      background-color: #3B4455;\n",
              "      fill: #D2E3FC;\n",
              "    }\n",
              "\n",
              "    [theme=dark] .colab-df-convert:hover {\n",
              "      background-color: #434B5C;\n",
              "      box-shadow: 0px 1px 3px 1px rgba(0, 0, 0, 0.15);\n",
              "      filter: drop-shadow(0px 1px 2px rgba(0, 0, 0, 0.3));\n",
              "      fill: #FFFFFF;\n",
              "    }\n",
              "  </style>\n",
              "\n",
              "    <script>\n",
              "      const buttonEl =\n",
              "        document.querySelector('#df-bae17df2-5d76-4865-ad6f-f6e190a4c9b1 button.colab-df-convert');\n",
              "      buttonEl.style.display =\n",
              "        google.colab.kernel.accessAllowed ? 'block' : 'none';\n",
              "\n",
              "      async function convertToInteractive(key) {\n",
              "        const element = document.querySelector('#df-bae17df2-5d76-4865-ad6f-f6e190a4c9b1');\n",
              "        const dataTable =\n",
              "          await google.colab.kernel.invokeFunction('convertToInteractive',\n",
              "                                                    [key], {});\n",
              "        if (!dataTable) return;\n",
              "\n",
              "        const docLinkHtml = 'Like what you see? Visit the ' +\n",
              "          '<a target=\"_blank\" href=https://colab.research.google.com/notebooks/data_table.ipynb>data table notebook</a>'\n",
              "          + ' to learn more about interactive tables.';\n",
              "        element.innerHTML = '';\n",
              "        dataTable['output_type'] = 'display_data';\n",
              "        await google.colab.output.renderOutput(dataTable, element);\n",
              "        const docLink = document.createElement('div');\n",
              "        docLink.innerHTML = docLinkHtml;\n",
              "        element.appendChild(docLink);\n",
              "      }\n",
              "    </script>\n",
              "  </div>\n",
              "\n",
              "\n",
              "<div id=\"df-4bed920b-3534-4cb9-83de-b763f2f85f10\">\n",
              "  <button class=\"colab-df-quickchart\" onclick=\"quickchart('df-4bed920b-3534-4cb9-83de-b763f2f85f10')\"\n",
              "            title=\"Suggest charts\"\n",
              "            style=\"display:none;\">\n",
              "\n",
              "<svg xmlns=\"http://www.w3.org/2000/svg\" height=\"24px\"viewBox=\"0 0 24 24\"\n",
              "     width=\"24px\">\n",
              "    <g>\n",
              "        <path d=\"M19 3H5c-1.1 0-2 .9-2 2v14c0 1.1.9 2 2 2h14c1.1 0 2-.9 2-2V5c0-1.1-.9-2-2-2zM9 17H7v-7h2v7zm4 0h-2V7h2v10zm4 0h-2v-4h2v4z\"/>\n",
              "    </g>\n",
              "</svg>\n",
              "  </button>\n",
              "\n",
              "<style>\n",
              "  .colab-df-quickchart {\n",
              "      --bg-color: #E8F0FE;\n",
              "      --fill-color: #1967D2;\n",
              "      --hover-bg-color: #E2EBFA;\n",
              "      --hover-fill-color: #174EA6;\n",
              "      --disabled-fill-color: #AAA;\n",
              "      --disabled-bg-color: #DDD;\n",
              "  }\n",
              "\n",
              "  [theme=dark] .colab-df-quickchart {\n",
              "      --bg-color: #3B4455;\n",
              "      --fill-color: #D2E3FC;\n",
              "      --hover-bg-color: #434B5C;\n",
              "      --hover-fill-color: #FFFFFF;\n",
              "      --disabled-bg-color: #3B4455;\n",
              "      --disabled-fill-color: #666;\n",
              "  }\n",
              "\n",
              "  .colab-df-quickchart {\n",
              "    background-color: var(--bg-color);\n",
              "    border: none;\n",
              "    border-radius: 50%;\n",
              "    cursor: pointer;\n",
              "    display: none;\n",
              "    fill: var(--fill-color);\n",
              "    height: 32px;\n",
              "    padding: 0;\n",
              "    width: 32px;\n",
              "  }\n",
              "\n",
              "  .colab-df-quickchart:hover {\n",
              "    background-color: var(--hover-bg-color);\n",
              "    box-shadow: 0 1px 2px rgba(60, 64, 67, 0.3), 0 1px 3px 1px rgba(60, 64, 67, 0.15);\n",
              "    fill: var(--button-hover-fill-color);\n",
              "  }\n",
              "\n",
              "  .colab-df-quickchart-complete:disabled,\n",
              "  .colab-df-quickchart-complete:disabled:hover {\n",
              "    background-color: var(--disabled-bg-color);\n",
              "    fill: var(--disabled-fill-color);\n",
              "    box-shadow: none;\n",
              "  }\n",
              "\n",
              "  .colab-df-spinner {\n",
              "    border: 2px solid var(--fill-color);\n",
              "    border-color: transparent;\n",
              "    border-bottom-color: var(--fill-color);\n",
              "    animation:\n",
              "      spin 1s steps(1) infinite;\n",
              "  }\n",
              "\n",
              "  @keyframes spin {\n",
              "    0% {\n",
              "      border-color: transparent;\n",
              "      border-bottom-color: var(--fill-color);\n",
              "      border-left-color: var(--fill-color);\n",
              "    }\n",
              "    20% {\n",
              "      border-color: transparent;\n",
              "      border-left-color: var(--fill-color);\n",
              "      border-top-color: var(--fill-color);\n",
              "    }\n",
              "    30% {\n",
              "      border-color: transparent;\n",
              "      border-left-color: var(--fill-color);\n",
              "      border-top-color: var(--fill-color);\n",
              "      border-right-color: var(--fill-color);\n",
              "    }\n",
              "    40% {\n",
              "      border-color: transparent;\n",
              "      border-right-color: var(--fill-color);\n",
              "      border-top-color: var(--fill-color);\n",
              "    }\n",
              "    60% {\n",
              "      border-color: transparent;\n",
              "      border-right-color: var(--fill-color);\n",
              "    }\n",
              "    80% {\n",
              "      border-color: transparent;\n",
              "      border-right-color: var(--fill-color);\n",
              "      border-bottom-color: var(--fill-color);\n",
              "    }\n",
              "    90% {\n",
              "      border-color: transparent;\n",
              "      border-bottom-color: var(--fill-color);\n",
              "    }\n",
              "  }\n",
              "</style>\n",
              "\n",
              "  <script>\n",
              "    async function quickchart(key) {\n",
              "      const quickchartButtonEl =\n",
              "        document.querySelector('#' + key + ' button');\n",
              "      quickchartButtonEl.disabled = true;  // To prevent multiple clicks.\n",
              "      quickchartButtonEl.classList.add('colab-df-spinner');\n",
              "      try {\n",
              "        const charts = await google.colab.kernel.invokeFunction(\n",
              "            'suggestCharts', [key], {});\n",
              "      } catch (error) {\n",
              "        console.error('Error during call to suggestCharts:', error);\n",
              "      }\n",
              "      quickchartButtonEl.classList.remove('colab-df-spinner');\n",
              "      quickchartButtonEl.classList.add('colab-df-quickchart-complete');\n",
              "    }\n",
              "    (() => {\n",
              "      let quickchartButtonEl =\n",
              "        document.querySelector('#df-4bed920b-3534-4cb9-83de-b763f2f85f10 button');\n",
              "      quickchartButtonEl.style.display =\n",
              "        google.colab.kernel.accessAllowed ? 'block' : 'none';\n",
              "    })();\n",
              "  </script>\n",
              "</div>\n",
              "\n",
              "    </div>\n",
              "  </div>\n"
            ],
            "application/vnd.google.colaboratory.intrinsic+json": {
              "type": "dataframe",
              "variable_name": "data2",
              "summary": "{\n  \"name\": \"data2\",\n  \"rows\": 100,\n  \"fields\": [\n    {\n      \"column\": \"$X_1$\",\n      \"properties\": {\n        \"dtype\": \"number\",\n        \"std\": 1.0121347972042916,\n        \"min\": -1.3257394922864898,\n        \"max\": 3.359414853410437,\n        \"num_unique_values\": 100,\n        \"samples\": [\n          1.6527033734929948,\n          0.7890862285206615,\n          1.1312175042434114\n        ],\n        \"semantic_type\": \"\",\n        \"description\": \"\"\n      }\n    },\n    {\n      \"column\": \"$X_2$\",\n      \"properties\": {\n        \"dtype\": \"number\",\n        \"std\": 3.1776607359296656,\n        \"min\": -4.299496769648556,\n        \"max\": 6.25456272268018,\n        \"num_unique_values\": 100,\n        \"samples\": [\n          4.8803781440633305,\n          5.836566541806848,\n          4.681949847050563\n        ],\n        \"semantic_type\": \"\",\n        \"description\": \"\"\n      }\n    },\n    {\n      \"column\": \"$X_3$\",\n      \"properties\": {\n        \"dtype\": \"number\",\n        \"std\": 1.0692506130198705,\n        \"min\": -0.49772229440120075,\n        \"max\": 5.177191212023975,\n        \"num_unique_values\": 100,\n        \"samples\": [\n          1.846968765854883,\n          3.524626291333163,\n          1.1674817738027652\n        ],\n        \"semantic_type\": \"\",\n        \"description\": \"\"\n      }\n    }\n  ]\n}"
            }
          },
          "metadata": {},
          "execution_count": 58
        }
      ],
      "source": [
        "X, y = make_blobs(n_samples = 100, centers=2,\n",
        "                  n_features = 3, random_state=0)\n",
        "data2 = pd.DataFrame(X, columns=['$X_1$', '$X_2$', '$X_3$'])\n",
        "data2.head(10)"
      ]
    },
    {
      "cell_type": "code",
      "source": [
        "data2.describe()"
      ],
      "metadata": {
        "colab": {
          "base_uri": "https://localhost:8080/",
          "height": 300
        },
        "id": "t8c9iqvLnOU4",
        "outputId": "e7ec586b-3026-45ae-c7bf-576fa051e253"
      },
      "execution_count": 59,
      "outputs": [
        {
          "output_type": "execute_result",
          "data": {
            "text/plain": [
              "            $X_1$       $X_2$       $X_3$\n",
              "count  100.000000  100.000000  100.000000\n",
              "mean     0.977571    1.495262    2.356587\n",
              "std      1.012135    3.177661    1.069251\n",
              "min     -1.325739   -4.299497   -0.497722\n",
              "25%      0.369088   -1.448199    1.524344\n",
              "50%      0.954507    1.813217    2.282029\n",
              "75%      1.601782    4.453488    3.039135\n",
              "max      3.359415    6.254563    5.177191"
            ],
            "text/html": [
              "\n",
              "  <div id=\"df-44bdad38-e4d3-4fc0-a93d-be83b5fdba2b\" class=\"colab-df-container\">\n",
              "    <div>\n",
              "<style scoped>\n",
              "    .dataframe tbody tr th:only-of-type {\n",
              "        vertical-align: middle;\n",
              "    }\n",
              "\n",
              "    .dataframe tbody tr th {\n",
              "        vertical-align: top;\n",
              "    }\n",
              "\n",
              "    .dataframe thead th {\n",
              "        text-align: right;\n",
              "    }\n",
              "</style>\n",
              "<table border=\"1\" class=\"dataframe\">\n",
              "  <thead>\n",
              "    <tr style=\"text-align: right;\">\n",
              "      <th></th>\n",
              "      <th>$X_1$</th>\n",
              "      <th>$X_2$</th>\n",
              "      <th>$X_3$</th>\n",
              "    </tr>\n",
              "  </thead>\n",
              "  <tbody>\n",
              "    <tr>\n",
              "      <th>count</th>\n",
              "      <td>100.000000</td>\n",
              "      <td>100.000000</td>\n",
              "      <td>100.000000</td>\n",
              "    </tr>\n",
              "    <tr>\n",
              "      <th>mean</th>\n",
              "      <td>0.977571</td>\n",
              "      <td>1.495262</td>\n",
              "      <td>2.356587</td>\n",
              "    </tr>\n",
              "    <tr>\n",
              "      <th>std</th>\n",
              "      <td>1.012135</td>\n",
              "      <td>3.177661</td>\n",
              "      <td>1.069251</td>\n",
              "    </tr>\n",
              "    <tr>\n",
              "      <th>min</th>\n",
              "      <td>-1.325739</td>\n",
              "      <td>-4.299497</td>\n",
              "      <td>-0.497722</td>\n",
              "    </tr>\n",
              "    <tr>\n",
              "      <th>25%</th>\n",
              "      <td>0.369088</td>\n",
              "      <td>-1.448199</td>\n",
              "      <td>1.524344</td>\n",
              "    </tr>\n",
              "    <tr>\n",
              "      <th>50%</th>\n",
              "      <td>0.954507</td>\n",
              "      <td>1.813217</td>\n",
              "      <td>2.282029</td>\n",
              "    </tr>\n",
              "    <tr>\n",
              "      <th>75%</th>\n",
              "      <td>1.601782</td>\n",
              "      <td>4.453488</td>\n",
              "      <td>3.039135</td>\n",
              "    </tr>\n",
              "    <tr>\n",
              "      <th>max</th>\n",
              "      <td>3.359415</td>\n",
              "      <td>6.254563</td>\n",
              "      <td>5.177191</td>\n",
              "    </tr>\n",
              "  </tbody>\n",
              "</table>\n",
              "</div>\n",
              "    <div class=\"colab-df-buttons\">\n",
              "\n",
              "  <div class=\"colab-df-container\">\n",
              "    <button class=\"colab-df-convert\" onclick=\"convertToInteractive('df-44bdad38-e4d3-4fc0-a93d-be83b5fdba2b')\"\n",
              "            title=\"Convert this dataframe to an interactive table.\"\n",
              "            style=\"display:none;\">\n",
              "\n",
              "  <svg xmlns=\"http://www.w3.org/2000/svg\" height=\"24px\" viewBox=\"0 -960 960 960\">\n",
              "    <path d=\"M120-120v-720h720v720H120Zm60-500h600v-160H180v160Zm220 220h160v-160H400v160Zm0 220h160v-160H400v160ZM180-400h160v-160H180v160Zm440 0h160v-160H620v160ZM180-180h160v-160H180v160Zm440 0h160v-160H620v160Z\"/>\n",
              "  </svg>\n",
              "    </button>\n",
              "\n",
              "  <style>\n",
              "    .colab-df-container {\n",
              "      display:flex;\n",
              "      gap: 12px;\n",
              "    }\n",
              "\n",
              "    .colab-df-convert {\n",
              "      background-color: #E8F0FE;\n",
              "      border: none;\n",
              "      border-radius: 50%;\n",
              "      cursor: pointer;\n",
              "      display: none;\n",
              "      fill: #1967D2;\n",
              "      height: 32px;\n",
              "      padding: 0 0 0 0;\n",
              "      width: 32px;\n",
              "    }\n",
              "\n",
              "    .colab-df-convert:hover {\n",
              "      background-color: #E2EBFA;\n",
              "      box-shadow: 0px 1px 2px rgba(60, 64, 67, 0.3), 0px 1px 3px 1px rgba(60, 64, 67, 0.15);\n",
              "      fill: #174EA6;\n",
              "    }\n",
              "\n",
              "    .colab-df-buttons div {\n",
              "      margin-bottom: 4px;\n",
              "    }\n",
              "\n",
              "    [theme=dark] .colab-df-convert {\n",
              "      background-color: #3B4455;\n",
              "      fill: #D2E3FC;\n",
              "    }\n",
              "\n",
              "    [theme=dark] .colab-df-convert:hover {\n",
              "      background-color: #434B5C;\n",
              "      box-shadow: 0px 1px 3px 1px rgba(0, 0, 0, 0.15);\n",
              "      filter: drop-shadow(0px 1px 2px rgba(0, 0, 0, 0.3));\n",
              "      fill: #FFFFFF;\n",
              "    }\n",
              "  </style>\n",
              "\n",
              "    <script>\n",
              "      const buttonEl =\n",
              "        document.querySelector('#df-44bdad38-e4d3-4fc0-a93d-be83b5fdba2b button.colab-df-convert');\n",
              "      buttonEl.style.display =\n",
              "        google.colab.kernel.accessAllowed ? 'block' : 'none';\n",
              "\n",
              "      async function convertToInteractive(key) {\n",
              "        const element = document.querySelector('#df-44bdad38-e4d3-4fc0-a93d-be83b5fdba2b');\n",
              "        const dataTable =\n",
              "          await google.colab.kernel.invokeFunction('convertToInteractive',\n",
              "                                                    [key], {});\n",
              "        if (!dataTable) return;\n",
              "\n",
              "        const docLinkHtml = 'Like what you see? Visit the ' +\n",
              "          '<a target=\"_blank\" href=https://colab.research.google.com/notebooks/data_table.ipynb>data table notebook</a>'\n",
              "          + ' to learn more about interactive tables.';\n",
              "        element.innerHTML = '';\n",
              "        dataTable['output_type'] = 'display_data';\n",
              "        await google.colab.output.renderOutput(dataTable, element);\n",
              "        const docLink = document.createElement('div');\n",
              "        docLink.innerHTML = docLinkHtml;\n",
              "        element.appendChild(docLink);\n",
              "      }\n",
              "    </script>\n",
              "  </div>\n",
              "\n",
              "\n",
              "<div id=\"df-c6e85303-ccd4-4dd3-89c6-c7ec11f62e3b\">\n",
              "  <button class=\"colab-df-quickchart\" onclick=\"quickchart('df-c6e85303-ccd4-4dd3-89c6-c7ec11f62e3b')\"\n",
              "            title=\"Suggest charts\"\n",
              "            style=\"display:none;\">\n",
              "\n",
              "<svg xmlns=\"http://www.w3.org/2000/svg\" height=\"24px\"viewBox=\"0 0 24 24\"\n",
              "     width=\"24px\">\n",
              "    <g>\n",
              "        <path d=\"M19 3H5c-1.1 0-2 .9-2 2v14c0 1.1.9 2 2 2h14c1.1 0 2-.9 2-2V5c0-1.1-.9-2-2-2zM9 17H7v-7h2v7zm4 0h-2V7h2v10zm4 0h-2v-4h2v4z\"/>\n",
              "    </g>\n",
              "</svg>\n",
              "  </button>\n",
              "\n",
              "<style>\n",
              "  .colab-df-quickchart {\n",
              "      --bg-color: #E8F0FE;\n",
              "      --fill-color: #1967D2;\n",
              "      --hover-bg-color: #E2EBFA;\n",
              "      --hover-fill-color: #174EA6;\n",
              "      --disabled-fill-color: #AAA;\n",
              "      --disabled-bg-color: #DDD;\n",
              "  }\n",
              "\n",
              "  [theme=dark] .colab-df-quickchart {\n",
              "      --bg-color: #3B4455;\n",
              "      --fill-color: #D2E3FC;\n",
              "      --hover-bg-color: #434B5C;\n",
              "      --hover-fill-color: #FFFFFF;\n",
              "      --disabled-bg-color: #3B4455;\n",
              "      --disabled-fill-color: #666;\n",
              "  }\n",
              "\n",
              "  .colab-df-quickchart {\n",
              "    background-color: var(--bg-color);\n",
              "    border: none;\n",
              "    border-radius: 50%;\n",
              "    cursor: pointer;\n",
              "    display: none;\n",
              "    fill: var(--fill-color);\n",
              "    height: 32px;\n",
              "    padding: 0;\n",
              "    width: 32px;\n",
              "  }\n",
              "\n",
              "  .colab-df-quickchart:hover {\n",
              "    background-color: var(--hover-bg-color);\n",
              "    box-shadow: 0 1px 2px rgba(60, 64, 67, 0.3), 0 1px 3px 1px rgba(60, 64, 67, 0.15);\n",
              "    fill: var(--button-hover-fill-color);\n",
              "  }\n",
              "\n",
              "  .colab-df-quickchart-complete:disabled,\n",
              "  .colab-df-quickchart-complete:disabled:hover {\n",
              "    background-color: var(--disabled-bg-color);\n",
              "    fill: var(--disabled-fill-color);\n",
              "    box-shadow: none;\n",
              "  }\n",
              "\n",
              "  .colab-df-spinner {\n",
              "    border: 2px solid var(--fill-color);\n",
              "    border-color: transparent;\n",
              "    border-bottom-color: var(--fill-color);\n",
              "    animation:\n",
              "      spin 1s steps(1) infinite;\n",
              "  }\n",
              "\n",
              "  @keyframes spin {\n",
              "    0% {\n",
              "      border-color: transparent;\n",
              "      border-bottom-color: var(--fill-color);\n",
              "      border-left-color: var(--fill-color);\n",
              "    }\n",
              "    20% {\n",
              "      border-color: transparent;\n",
              "      border-left-color: var(--fill-color);\n",
              "      border-top-color: var(--fill-color);\n",
              "    }\n",
              "    30% {\n",
              "      border-color: transparent;\n",
              "      border-left-color: var(--fill-color);\n",
              "      border-top-color: var(--fill-color);\n",
              "      border-right-color: var(--fill-color);\n",
              "    }\n",
              "    40% {\n",
              "      border-color: transparent;\n",
              "      border-right-color: var(--fill-color);\n",
              "      border-top-color: var(--fill-color);\n",
              "    }\n",
              "    60% {\n",
              "      border-color: transparent;\n",
              "      border-right-color: var(--fill-color);\n",
              "    }\n",
              "    80% {\n",
              "      border-color: transparent;\n",
              "      border-right-color: var(--fill-color);\n",
              "      border-bottom-color: var(--fill-color);\n",
              "    }\n",
              "    90% {\n",
              "      border-color: transparent;\n",
              "      border-bottom-color: var(--fill-color);\n",
              "    }\n",
              "  }\n",
              "</style>\n",
              "\n",
              "  <script>\n",
              "    async function quickchart(key) {\n",
              "      const quickchartButtonEl =\n",
              "        document.querySelector('#' + key + ' button');\n",
              "      quickchartButtonEl.disabled = true;  // To prevent multiple clicks.\n",
              "      quickchartButtonEl.classList.add('colab-df-spinner');\n",
              "      try {\n",
              "        const charts = await google.colab.kernel.invokeFunction(\n",
              "            'suggestCharts', [key], {});\n",
              "      } catch (error) {\n",
              "        console.error('Error during call to suggestCharts:', error);\n",
              "      }\n",
              "      quickchartButtonEl.classList.remove('colab-df-spinner');\n",
              "      quickchartButtonEl.classList.add('colab-df-quickchart-complete');\n",
              "    }\n",
              "    (() => {\n",
              "      let quickchartButtonEl =\n",
              "        document.querySelector('#df-c6e85303-ccd4-4dd3-89c6-c7ec11f62e3b button');\n",
              "      quickchartButtonEl.style.display =\n",
              "        google.colab.kernel.accessAllowed ? 'block' : 'none';\n",
              "    })();\n",
              "  </script>\n",
              "</div>\n",
              "\n",
              "    </div>\n",
              "  </div>\n"
            ],
            "application/vnd.google.colaboratory.intrinsic+json": {
              "type": "dataframe",
              "summary": "{\n  \"name\": \"data2\",\n  \"rows\": 8,\n  \"fields\": [\n    {\n      \"column\": \"$X_1$\",\n      \"properties\": {\n        \"dtype\": \"number\",\n        \"std\": 35.028318623379946,\n        \"min\": -1.3257394922864898,\n        \"max\": 100.0,\n        \"num_unique_values\": 8,\n        \"samples\": [\n          0.9775708735462912,\n          0.9545067521730544,\n          100.0\n        ],\n        \"semantic_type\": \"\",\n        \"description\": \"\"\n      }\n    },\n    {\n      \"column\": \"$X_2$\",\n      \"properties\": {\n        \"dtype\": \"number\",\n        \"std\": 34.933849747593925,\n        \"min\": -4.299496769648556,\n        \"max\": 100.0,\n        \"num_unique_values\": 8,\n        \"samples\": [\n          1.4952619529168092,\n          1.813217168655831,\n          100.0\n        ],\n        \"semantic_type\": \"\",\n        \"description\": \"\"\n      }\n    },\n    {\n      \"column\": \"$X_3$\",\n      \"properties\": {\n        \"dtype\": \"number\",\n        \"std\": 34.63855039749784,\n        \"min\": -0.49772229440120075,\n        \"max\": 100.0,\n        \"num_unique_values\": 8,\n        \"samples\": [\n          2.356587357252869,\n          2.282029280095888,\n          100.0\n        ],\n        \"semantic_type\": \"\",\n        \"description\": \"\"\n      }\n    }\n  ]\n}"
            }
          },
          "metadata": {},
          "execution_count": 59
        }
      ]
    },
    {
      "cell_type": "code",
      "source": [
        "y_series2 = pd.Series(y)\n",
        "y_series2.value_counts()"
      ],
      "metadata": {
        "colab": {
          "base_uri": "https://localhost:8080/",
          "height": 147
        },
        "id": "yNcjOWocnS8N",
        "outputId": "d978633e-055b-4eff-cc87-f432284b92d0"
      },
      "execution_count": 60,
      "outputs": [
        {
          "output_type": "execute_result",
          "data": {
            "text/plain": [
              "1    50\n",
              "0    50\n",
              "Name: count, dtype: int64"
            ],
            "text/html": [
              "<div>\n",
              "<style scoped>\n",
              "    .dataframe tbody tr th:only-of-type {\n",
              "        vertical-align: middle;\n",
              "    }\n",
              "\n",
              "    .dataframe tbody tr th {\n",
              "        vertical-align: top;\n",
              "    }\n",
              "\n",
              "    .dataframe thead th {\n",
              "        text-align: right;\n",
              "    }\n",
              "</style>\n",
              "<table border=\"1\" class=\"dataframe\">\n",
              "  <thead>\n",
              "    <tr style=\"text-align: right;\">\n",
              "      <th></th>\n",
              "      <th>count</th>\n",
              "    </tr>\n",
              "  </thead>\n",
              "  <tbody>\n",
              "    <tr>\n",
              "      <th>1</th>\n",
              "      <td>50</td>\n",
              "    </tr>\n",
              "    <tr>\n",
              "      <th>0</th>\n",
              "      <td>50</td>\n",
              "    </tr>\n",
              "  </tbody>\n",
              "</table>\n",
              "</div><br><label><b>dtype:</b> int64</label>"
            ]
          },
          "metadata": {},
          "execution_count": 60
        }
      ]
    },
    {
      "cell_type": "markdown",
      "metadata": {
        "id": "isgRrxMwjMdE"
      },
      "source": [
        "### 14. Визуализируйте данные с тремя признаками на пространственной диаграмме рассеивания. Поверните график на нужный угол так, чтобы было видно, что данные линейно разделимы."
      ]
    },
    {
      "cell_type": "code",
      "source": [
        "figure = plt.figure(figsize=(8, 6))\n",
        "ax = figure.add_subplot(projection='3d')\n",
        "ax.scatter(X[:, 0][y==0], X[:, 1][y==0], X[:, 2][y==0], color='green', label='class 0')\n",
        "ax.scatter(X[:, 0][y==1], X[:, 1][y==1], X[:, 2][y==1], color='purple', label='class 1')\n",
        "\n",
        "ax.set_xlabel('X Label')\n",
        "ax.set_ylabel('Y Label')\n",
        "ax.set_zlabel('Z Label', labelpad=-3)\n",
        "ax.set_title('Rotated data2 3D plot')\n",
        "\n",
        "ax.view_init(elev=20, azim=10)\n",
        "\n",
        "ax.legend()\n",
        "plt.show()"
      ],
      "metadata": {
        "colab": {
          "base_uri": "https://localhost:8080/",
          "height": 521
        },
        "id": "u5e4uvMxnPs4",
        "outputId": "87d5c175-a36d-463e-9ffc-75fb00226ea8"
      },
      "execution_count": 61,
      "outputs": [
        {
          "output_type": "display_data",
          "data": {
            "text/plain": [
              "<Figure size 800x600 with 1 Axes>"
            ],
            "image/png": "[encoded data removed]"
          },
          "metadata": {}
        }
      ]
    },
    {
      "cell_type": "markdown",
      "metadata": {
        "id": "c-Mj8jhljMdE"
      },
      "source": [
        "### 15. Напишите функцию, вычисляющую предсказание вероятности того, что значение принадлежит классу единица в случае, когда три признака. Назовите её predict_proba. Вычислите её значения на сгенерированных данных X в случайной точке $w$.\n",
        "Указание:  $\\vec{p} =\\sigma(w_0 + w_1 \\vec{x}_1+ w_2 \\vec{x}_2)$"
      ]
    },
    {
      "cell_type": "raw",
      "metadata": {
        "id": "zSpt6n8tjMdE"
      },
      "source": [
        "def predict_proba(w, X):\n",
        "        return ..."
      ]
    },
    {
      "cell_type": "code",
      "execution_count": 65,
      "metadata": {
        "id": "FEE7bU0gjMdE"
      },
      "outputs": [],
      "source": [
        "def predict_proba2(w, X):\n",
        "        return sigmoid(w[0] + w[1]*X[:, 0] + w[2]*X[:, 1] + w[3]*X[:, 2])"
      ]
    },
    {
      "cell_type": "code",
      "source": [
        "predict_proba2((0, 1, 3, 5), X)"
      ],
      "metadata": {
        "colab": {
          "base_uri": "https://localhost:8080/"
        },
        "id": "KR8Kky03naAh",
        "outputId": "37e03efb-206c-4e72-8175-1207d4db7d19"
      },
      "execution_count": 66,
      "outputs": [
        {
          "output_type": "execute_result",
          "data": {
            "text/plain": [
              "array([0.99999946, 0.95503489, 0.99937956, 1.        , 0.99997378,\n",
              "       1.        , 0.99810447, 1.        , 0.99999996, 0.99999998,\n",
              "       0.99976313, 1.        , 1.        , 1.        , 0.96118735,\n",
              "       1.        , 1.        , 1.        , 1.        , 0.99750573,\n",
              "       0.92746365, 1.        , 0.99999467, 0.9997038 , 0.99999863,\n",
              "       0.99999998, 0.99999878, 0.99999994, 0.73618326, 1.        ,\n",
              "       0.92466594, 0.99995365, 1.        , 1.        , 1.        ,\n",
              "       0.99999901, 0.99999999, 1.        , 1.        , 1.        ,\n",
              "       0.99989377, 0.99999999, 0.99999999, 0.99997356, 1.        ,\n",
              "       0.99999991, 0.99999572, 0.99986866, 0.99999474, 1.        ,\n",
              "       0.99999999, 0.99995013, 0.99997294, 1.        , 0.99999869,\n",
              "       0.99999997, 0.9223689 , 0.99999957, 1.        , 1.        ,\n",
              "       0.99977802, 1.        , 1.        , 0.99999996, 0.99456943,\n",
              "       1.        , 1.        , 1.        , 0.99998088, 0.99999999,\n",
              "       1.        , 1.        , 1.        , 1.        , 0.99999998,\n",
              "       0.99999663, 0.99999408, 0.99999915, 0.99995091, 1.        ,\n",
              "       1.        , 1.        , 1.        , 1.        , 1.        ,\n",
              "       0.99809366, 1.        , 0.78608969, 1.        , 0.99999715,\n",
              "       0.99615204, 0.99999976, 0.99999997, 0.99962934, 1.        ,\n",
              "       0.71061453, 1.        , 0.98497982, 0.99860574, 0.99998674])"
            ]
          },
          "metadata": {},
          "execution_count": 66
        }
      ]
    },
    {
      "cell_type": "markdown",
      "metadata": {
        "id": "PIj-CuyNjMdE"
      },
      "source": [
        "### 16. Напишите функцию gradient_logLoss, которая вычисляет градиент функции ошибки логистической регрессии с тремя признаками."
      ]
    },
    {
      "cell_type": "markdown",
      "metadata": {
        "id": "yiZvaw_UjMdE"
      },
      "source": [
        "Указание: $$ \\frac{\\partial }{\\partial w_0}loss(\\vec w, X , \\vec y) =\\frac{1}{n}\\sum_{i=1}^{n} (\\sigma(w_0 + w_1 x_{i 1}+ w_2 x_{i 2}+ w_3 x_{i 3}) - {y}_i)$$\n",
        "$$\\frac{\\partial }{\\partial w_1}loss(\\vec w, X, \\vec y) =\\frac{1}{n}\\sum_{i=1}^{n} (\\sigma(w_0 + w_1 x_{i 1}+ w_2 x_{i 2}) - {y}_i){x}_{i 1}$$\n",
        "$$\\frac{\\partial }{\\partial w_2}loss(\\vec w, X, \\vec y) =\\frac{1}{n}\\sum_{i=1}^{n} (\\sigma(w_0 + w_1 x_{i 1}+ w_2 x_{i 2}) - {y}_i){x}_{i 2}$$\n",
        "$$\\frac{\\partial }{\\partial w_3}loss(\\vec w, X, \\vec y) =\\frac{1}{n}\\sum_{i=1}^{n} (\\sigma(w_0 + w_1 x_{i 1}+ w_2 x_{i 2}) - {y}_i){x}_{i 3}$$"
      ]
    },
    {
      "cell_type": "raw",
      "metadata": {
        "id": "EhW_LPMTjMdE"
      },
      "source": [
        "def gradient_logLoss(w, X, y):\n",
        "    return np.array([..., ..., ..., ...])"
      ]
    },
    {
      "cell_type": "code",
      "execution_count": 67,
      "metadata": {
        "id": "NjR3ORKUjMdE"
      },
      "outputs": [],
      "source": [
        "def gradient_logLoss2(w, X, y):\n",
        "    n = X.shape[0]\n",
        "    p = predict_proba2(w, X)\n",
        "\n",
        "    grad_1 = 1/n * np.sum(p - y)\n",
        "    grad_2 = 1/n * np.sum((p - y) * X[:, 0])\n",
        "    grad_3 = 1/n * np.sum((p - y) * X[:, 1])\n",
        "    grad_4 = 1/n * np.sum((p - y) * X[:, 2])\n",
        "\n",
        "    return np.array([grad_1, grad_2, grad_3, grad_4])"
      ]
    },
    {
      "cell_type": "markdown",
      "metadata": {
        "id": "a1pycci2jMdE"
      },
      "source": [
        "### 17. Постройте модель логистической регрессии с тремя признаками в виде класса, назовите его Logistic_Regression_dim3.  Обучите построенную модель и выведите оптимальные параметры гиперплоскости.\n",
        "Указание: Преобразуйте класс Logistic_Regression_dim2 так, чтобы он мог быть применим к данным с тремя признаками. Замените нужным образом методы gradient_F и predict_proba, а в fit стартовую точку возьмите, состоящую из четырёх нулей."
      ]
    },
    {
      "cell_type": "code",
      "execution_count": 68,
      "metadata": {
        "id": "AQqw5I8rjMdE"
      },
      "outputs": [],
      "source": [
        "class Logistic_Regression_dim3():\n",
        "    def __init__(self, max_iter, learning_rate):\n",
        "        self.w = None\n",
        "        self.max_iter_ = max_iter\n",
        "        self.learning_rate = learning_rate\n",
        "\n",
        "    def sigmoida(self, z):\n",
        "        return 1/(1 + np.exp(-z))\n",
        "\n",
        "    def predict_proba2(self, X):\n",
        "        return self.sigmoida(self.w[0] + self.w[1]*X[:, 0] + self.w[2]*X[:, 1] + self.w[3]*X[:, 2])\n",
        "\n",
        "    def predict(self, X):\n",
        "        y_pred = self.predict_proba2(X) > 0.5\n",
        "        return np.where(y_pred==False, 0, y_pred)\n",
        "\n",
        "    def gradient_F(self, X, y):\n",
        "        n = X.shape[0]\n",
        "        p = self.predict_proba2(X)\n",
        "\n",
        "        grad_1 = 1/n * np.sum(p - y)\n",
        "        grad_2 = 1/n * np.sum((p - y) * X[:, 0])\n",
        "        grad_3 = 1/n * np.sum((p - y) * X[:, 1])\n",
        "        grad_4 = 1/n * np.sum((p - y) * X[:, 2])\n",
        "\n",
        "        return np.array([grad_1, grad_2, grad_3, grad_4])\n",
        "\n",
        "    def GD(self, a, b, w_start):\n",
        "        self.w = w_start\n",
        "\n",
        "        for _ in range(self.max_iter_):\n",
        "            self.w = self.w - self.learning_rate *self.gradient_F(a, b)\n",
        "        assert (-1e+06 < self.w).all() and (self.w < 1e+06).all(), \"Расходимость: слишком большой learning_rate, либо неудачно выбрана начальная точка, либо минимум не достигается\"\n",
        "        assert (-1e-04 < self.gradient_F(a, b)).all() and (self.gradient_F(a, b) < 1e-04).all(), \"Недостаточно шагов градиентного спуска\"\n",
        "\n",
        "    def fit(self, a, b):\n",
        "        w_start = np.zeros(4)\n",
        "        self.GD(a, b, w_start)"
      ]
    },
    {
      "cell_type": "code",
      "source": [
        "logistic_model = Logistic_Regression_dim3(10000, 100)\n",
        "logistic_model.fit(X, y)"
      ],
      "metadata": {
        "colab": {
          "base_uri": "https://localhost:8080/"
        },
        "id": "xgDViJNRnodX",
        "outputId": "b11791b3-91a0-4a2b-aec4-56f75c2229a4"
      },
      "execution_count": 69,
      "outputs": [
        {
          "output_type": "stream",
          "name": "stderr",
          "text": [
            "<ipython-input-68-24cdd603bc5d>:8: RuntimeWarning: overflow encountered in exp\n",
            "  return 1/(1 + np.exp(-z))\n"
          ]
        }
      ]
    },
    {
      "cell_type": "code",
      "source": [
        "logistic_model.w"
      ],
      "metadata": {
        "id": "Fb5JQZ4AnrJc",
        "outputId": "608b1f77-19cb-4614-fd81-cbfac9461a1f",
        "colab": {
          "base_uri": "https://localhost:8080/"
        }
      },
      "execution_count": 70,
      "outputs": [
        {
          "output_type": "execute_result",
          "data": {
            "text/plain": [
              "array([  17.23865666,   -1.82080718, -136.982727  ,   54.26692818])"
            ]
          },
          "metadata": {},
          "execution_count": 70
        }
      ]
    },
    {
      "cell_type": "markdown",
      "metadata": {
        "id": "ytPFkgpYjMdF"
      },
      "source": [
        "### 18. Визуализируйте плоскость разделения на классы и диаграмму рассеивания на одном пространственном графике. Поверните график на нужный угол так, чтобы было видно, что данные разделены плоскостью."
      ]
    },
    {
      "cell_type": "code",
      "source": [
        "xx, yy = np.meshgrid(np.linspace(X[:, 0].min(), X[:, 0].max(), 100),\n",
        "                     np.linspace(X[:, 1].min(), X[:, 1].max(), 100))\n",
        "zz = (-logistic_model.w[0] - logistic_model.w[1] * xx - logistic_model.w[2] * yy) / logistic_model.w[3]\n",
        "\n",
        "figure = plt.figure(figsize=(8, 6))\n",
        "ax = figure.add_subplot(projection='3d')\n",
        "ax.scatter(X[:, 0][y==0], X[:, 1][y==0], X[:, 2][y==0], color='green', label='class 0')\n",
        "ax.scatter(X[:, 0][y==1], X[:, 1][y==1], X[:, 2][y==1], color='purple', label='class 1')\n",
        "\n",
        "ax.plot_surface(xx, yy, zz, alpha=0.5, color='red', label='Decision Boundary')\n",
        "\n",
        "ax.set_xlabel('X Label')\n",
        "ax.set_ylabel('Y Label')\n",
        "ax.set_zlabel('Z Label', labelpad=-3)\n",
        "ax.set_title('Rotated data2 3D plot')\n",
        "\n",
        "ax.view_init(elev=20, azim=10)\n",
        "\n",
        "# ax.legend()\n",
        "plt.show()"
      ],
      "metadata": {
        "colab": {
          "base_uri": "https://localhost:8080/",
          "height": 521
        },
        "id": "qVsaJTNbnn4U",
        "outputId": "a290d1e9-268b-4e10-814b-0103f2f81a37"
      },
      "execution_count": 71,
      "outputs": [
        {
          "output_type": "display_data",
          "data": {
            "text/plain": [
              "<Figure size 800x600 with 1 Axes>"
            ],
            "image/png": "[encoded data removed]"
          },
          "metadata": {}
        }
      ]
    }
  ],
  "metadata": {
    "kernelspec": {
      "display_name": "Python 3 (ipykernel)",
      "language": "python",
      "name": "python3"
    },
    "language_info": {
      "codemirror_mode": {
        "name": "ipython",
        "version": 3
      },
      "file_extension": ".py",
      "mimetype": "text/x-python",
      "name": "python",
      "nbconvert_exporter": "python",
      "pygments_lexer": "ipython3",
      "version": "3.11.7"
    },
    "colab": {
      "provenance": []
    }
  },
  "nbformat": 4,
  "nbformat_minor": 0
}